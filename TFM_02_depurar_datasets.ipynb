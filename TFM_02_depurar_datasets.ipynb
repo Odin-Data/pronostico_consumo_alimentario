{
 "cells": [
  {
   "cell_type": "markdown",
   "id": "2b60a149-93ab-4865-a949-215862d04722",
   "metadata": {
    "heading_collapsed": true,
    "jp-MarkdownHeadingCollapsed": true
   },
   "source": [
    "# IMPORTAR LIBRERIAS"
   ]
  },
  {
   "cell_type": "code",
   "execution_count": 1,
   "id": "6eebe386-6118-4707-ae7e-c9c33982742f",
   "metadata": {
    "hidden": true
   },
   "outputs": [
    {
     "name": "stderr",
     "output_type": "stream",
     "text": [
      "C:\\Users\\OT\\AppData\\Local\\Temp\\ipykernel_9532\\1313406465.py:1: DeprecationWarning: \n",
      "Pyarrow will become a required dependency of pandas in the next major release of pandas (pandas 3.0),\n",
      "(to allow more performant data types, such as the Arrow string type, and better interoperability with other libraries)\n",
      "but was not found to be installed on your system.\n",
      "If this would cause problems for you,\n",
      "please provide us feedback at https://github.com/pandas-dev/pandas/issues/54466\n",
      "        \n",
      "  import pandas as pd\n"
     ]
    }
   ],
   "source": [
    "import pandas as pd\n",
    "import os\n",
    "import numpy as np\n",
    "import statsmodels.api as sm\n",
    "\n",
    "import warnings\n",
    "warnings.filterwarnings('ignore')"
   ]
  },
  {
   "cell_type": "markdown",
   "id": "497fd01f-2ece-4ac4-af15-4f10cd10b6f2",
   "metadata": {
    "heading_collapsed": true,
    "jp-MarkdownHeadingCollapsed": true
   },
   "source": [
    "# FUNCIONES"
   ]
  },
  {
   "cell_type": "markdown",
   "id": "4f2cd939",
   "metadata": {
    "hidden": true
   },
   "source": [
    "Se definen las funciones que se utilizarán para la depuración del dataset."
   ]
  },
  {
   "cell_type": "code",
   "execution_count": 2,
   "id": "46c08f7e-ef8e-42cc-b761-6916bebc2700",
   "metadata": {
    "hidden": true
   },
   "outputs": [],
   "source": [
    "def filtrar_datos_en_partes(filepath, columna_alimentos, alimentos_seleccionados, chunk_size=10000):\n",
    "    \"\"\"\n",
    "    Filtra datos en partes para evitar cargar el archivo completo en memoria.\n",
    "    \n",
    "    :param filepath: Ruta del archivo CSV\n",
    "    :param columna_alimentos: Nombre de la columna con los alimentos\n",
    "    :param alimentos_seleccionados: Lista de alimentos a seleccionar\n",
    "    :param chunk_size: Número de filas por cada chunk\n",
    "    :return: DataFrame filtrado\n",
    "    \"\"\"\n",
    "    # Crear un DataFrame vacío para almacenar los resultados\n",
    "    df_filtrado = pd.DataFrame()\n",
    "    \n",
    "    # Leer el archivo en partes (chunks)\n",
    "    for chunk in pd.read_csv(filepath, chunksize=chunk_size):\n",
    "        # Filtrar el chunk actual\n",
    "        chunk_filtrado = chunk[chunk[columna_alimentos].isin(alimentos_seleccionados)]\n",
    "        # Añadir el chunk filtrado al DataFrame final\n",
    "        df_filtrado = pd.concat([df_filtrado, chunk_filtrado], ignore_index=True)\n",
    "    \n",
    "    return df_filtrado"
   ]
  },
  {
   "cell_type": "code",
   "execution_count": 3,
   "id": "485c1848-0f53-4539-b66f-33cf20e11344",
   "metadata": {
    "hidden": true
   },
   "outputs": [],
   "source": [
    "def convertir_a_fecha(df):\n",
    "    \"\"\"\n",
    "    Esta función toma las columnas 'Año' y 'Mes' de un DataFrame, las combina para crear una nueva\n",
    "    columna 'Fecha' en formato 'YYYY-MM'\n",
    "\n",
    "    Parámetros:\n",
    "    - df (pd.DataFrame): El DataFrame que contiene las columnas 'Año' y 'Mes', las cuales se \n",
    "      utilizan para crear la columna 'Fecha'.\n",
    "\n",
    "    Retorna:\n",
    "    - pd.DataFrame: El DataFrame original con una nueva columna 'Fecha', devolviendo Año, Mes y Fecha en tipo str.\n",
    "    \"\"\"\n",
    "    \n",
    "    df['Año'] = df['Año'].astype(str).str.extract('(\\d{4})')  \n",
    "    df['Mes'] = df['Mes'].astype(str).str.zfill(2)  \n",
    "    df['Fecha'] = df['Año'] + '-' + df['Mes']\n",
    "    \n",
    "    return df\n"
   ]
  },
  {
   "cell_type": "markdown",
   "id": "bf13ac8d-b1c6-4aae-9a48-ecf49d38dad9",
   "metadata": {
    "heading_collapsed": true,
    "jp-MarkdownHeadingCollapsed": true
   },
   "source": [
    "# CARGAR DATOS"
   ]
  },
  {
   "cell_type": "markdown",
   "id": "5f9d791b-cc79-43ab-a160-d197181819d1",
   "metadata": {
    "hidden": true
   },
   "source": [
    "El conjunto de datos abarca una amplia variedad de categorías de alimentos. Para el análisis y modelización, nos enfocaremos exclusivamente en un grupo específico de alimentos, seleccionando aquellos que reflejan los patrones de consumo más relevantes a nivel nacional. Nuestro objetivo es identificar y trabajar con los grupos de alimentos más representativos en términos de consumo alimentario. Los grupos seleccionados son: frutas, hortalizas, pastas, arroz, pan, carne, pescado, huevos, legumbres, leche líquida, derivados lácteos y platos preparados.\n",
    "\n",
    "Antes de extraer estos grupos del conjunto de datos original, es necesario observar cómo están referenciados. Los diferentes archivos originales utilizados para crear el dataset contenían los nombres de los grupos de alimentos que se desean analizar con denominaciones diversas. En primer lugar, se realiza un filtrado general de los datos y, posteriormente, se aplica una transformación de nombres para unificar las categorías."
   ]
  },
  {
   "cell_type": "code",
   "execution_count": 4,
   "id": "09f3ba24",
   "metadata": {
    "hidden": true
   },
   "outputs": [],
   "source": [
    "# Definir el directorio de salida\n",
    "directorioSalida = './Dataset/Dataset_final/'\n",
    "\n",
    "# Definir los archivos\n",
    "datosNacional_csv = directorioSalida + 'nacional_combinados.csv'\n",
    "datosCcaa_csv = directorioSalida + 'datos_combinados_CCAA.csv'\n",
    "\n",
    "#Definir el grupo de alimentos con el que se quiero trabajar. \n",
    "seleccion_alimentos = [\n",
    "    'T.FRUTAS FRESCAS', 'T.HORTALIZAS FRESCAS', 'TOTAL PASTAS', 'ARROZ', 'PAN', \n",
    "    'TOTAL CARNE', 'TOTAL PESCA', 'T.HUEVOS KGS', 'LEGUMBRES', 'PLATOS PREPARADOS', \n",
    "    'TOTAL LECHE LIQUIDA', 'DERIVADOS LACTEOS','TOTAL FRUTAS FRESCAS','TOTAL HORTALIZAS FRES','HUEVOS KGS',\n",
    "    'HUEVOS (Kgs)'\n",
    "]\n",
    "\n",
    "df_nacional_filtrado = filtrar_datos_en_partes(datosNacional_csv , 'Alimentos', seleccion_alimentos)\n",
    "df_ccaa_filtrado = filtrar_datos_en_partes(datosCcaa_csv, 'Alimentos', seleccion_alimentos)"
   ]
  },
  {
   "cell_type": "code",
   "execution_count": 5,
   "id": "4a20fc5f",
   "metadata": {
    "hidden": true
   },
   "outputs": [],
   "source": [
    "# Reemplazar valores específicos en la columna 'Alimentos'\n",
    "df_nacional_filtrado['Alimentos'] = df_nacional_filtrado['Alimentos'].replace({\n",
    "    'TOTAL FRUTAS FRESCAS': 'T.FRUTAS FRESCAS',\n",
    "    'TOTAL HORTALIZAS FRES': 'T.HORTALIZAS FRESCAS',\n",
    "    'HUEVOS KGS':'T.HUEVOS KGS',\n",
    "    'HUEVOS (Kgs)':'T.HUEVOS KGS'\n",
    "})\n",
    "\n",
    "\n",
    "df_ccaa_filtrado['Alimentos'] = df_ccaa_filtrado['Alimentos'].replace({\n",
    "    'TOTAL FRUTAS FRESCAS': 'T.FRUTAS FRESCAS',\n",
    "    'TOTAL HORTALIZAS FRES': 'T.HORTALIZAS FRESCAS',\n",
    "    'HUEVOS KGS':'T.HUEVOS KGS',\n",
    "    'HUEVOS (Kgs)':'T.HUEVOS KGS'\n",
    "})"
   ]
  },
  {
   "cell_type": "markdown",
   "id": "644bb2f7-2a6b-4dec-9b54-56e411beae90",
   "metadata": {
    "heading_collapsed": true,
    "jp-MarkdownHeadingCollapsed": true
   },
   "source": [
    "# DEPURAR DATOS"
   ]
  },
  {
   "cell_type": "markdown",
   "id": "e8084ba8-8706-4979-9582-10af376519f1",
   "metadata": {
    "heading_collapsed": true,
    "hidden": true
   },
   "source": [
    "### TIPOLOGIA VARIABLES"
   ]
  },
  {
   "cell_type": "markdown",
   "id": "81ed0487-d2e9-4265-a71d-cd55935d291f",
   "metadata": {
    "hidden": true
   },
   "source": [
    "Podemos observar como todas las variables estan bien definidas. Pero Mes lo encontramos en todos los dataframes en formato object, en nuestro caso, deseamos traspasarlo a int. Podemos observar también valores nulos en este primner análisis.\n",
    "\n",
    "También se observa en el dataset por ccaa como tenemos definido para el precio medio y volumen diferentes nombres duplicando las columnas, se unificará en una sola. "
   ]
  },
  {
   "cell_type": "code",
   "execution_count": 6,
   "id": "bab15649-fdee-4e11-bd17-4363c6f7502f",
   "metadata": {
    "hidden": true,
    "scrolled": true
   },
   "outputs": [
    {
     "name": "stdout",
     "output_type": "stream",
     "text": [
      "<class 'pandas.core.frame.DataFrame'>\n",
      "RangeIndex: 3636 entries, 0 to 3635\n",
      "Data columns (total 9 columns):\n",
      " #   Column                       Non-Null Count  Dtype  \n",
      "---  ------                       --------------  -----  \n",
      " 0   Alimentos                    3636 non-null   object \n",
      " 1   CONSUMO X CAPITA             3636 non-null   float64\n",
      " 2   GASTO X CAPITA               3636 non-null   float64\n",
      " 3   PENETRACION (%)              3636 non-null   float64\n",
      " 4   PRECIO MEDIO kg ó litros     3636 non-null   float64\n",
      " 5   VALOR (Miles Euros)          3636 non-null   float64\n",
      " 6   VOLUMEN (Miles kg ó litros)  3636 non-null   float64\n",
      " 7   Año                          3636 non-null   int64  \n",
      " 8   Mes                          3636 non-null   object \n",
      "dtypes: float64(6), int64(1), object(2)\n",
      "memory usage: 255.8+ KB\n",
      "<class 'pandas.core.frame.DataFrame'>\n",
      "RangeIndex: 61524 entries, 0 to 61523\n",
      "Data columns (total 12 columns):\n",
      " #   Column                       Non-Null Count  Dtype  \n",
      "---  ------                       --------------  -----  \n",
      " 0   Alimentos                    61524 non-null  object \n",
      " 1   CONSUMO X CAPITA             61524 non-null  float64\n",
      " 2   GASTO X CAPITA               61524 non-null  float64\n",
      " 3   PENETRACION (%)              61524 non-null  float64\n",
      " 4   PRECIO MEDIO kg ó litros     47124 non-null  float64\n",
      " 5   VALOR (Miles Euros)          61524 non-null  float64\n",
      " 6   VOLUMEN (Miles kg ó litros)  47124 non-null  float64\n",
      " 7   Mes                          61524 non-null  object \n",
      " 8   Año                          61524 non-null  int64  \n",
      " 9   CCAA                         61524 non-null  object \n",
      " 10  PRECIO MEDIO kg              14400 non-null  float64\n",
      " 11  VOLUMEN (Miles Kg)           14400 non-null  float64\n",
      "dtypes: float64(8), int64(1), object(3)\n",
      "memory usage: 5.6+ MB\n"
     ]
    },
    {
     "data": {
      "text/plain": [
       "(None, None)"
      ]
     },
     "execution_count": 6,
     "metadata": {},
     "output_type": "execute_result"
    }
   ],
   "source": [
    "df_nacional_filtrado.info(),df_ccaa_filtrado.info()"
   ]
  },
  {
   "cell_type": "code",
   "execution_count": 7,
   "id": "68715509",
   "metadata": {
    "hidden": true
   },
   "outputs": [],
   "source": [
    "# Unificar las columnas 'PRECIO MEDIO kg ó litros' y 'PRECIO MEDIO kg'\n",
    "df_ccaa_filtrado['PRECIO MEDIO kg ó litros'] = df_ccaa_filtrado['PRECIO MEDIO kg ó litros'].combine_first(df_ccaa_filtrado['PRECIO MEDIO kg'])\n",
    "\n",
    "# Unificar las columnas 'VOLUMEN (Miles kg ó litros)' y 'VOLUMEN (Miles Kg)'\n",
    "df_ccaa_filtrado['VOLUMEN (Miles kg ó litros)'] = df_ccaa_filtrado['VOLUMEN (Miles kg ó litros)'].combine_first(df_ccaa_filtrado['VOLUMEN (Miles Kg)'])\n",
    "\n",
    "# Eliminar las columnas originales no unificadas\n",
    "df_ccaa_filtrado = df_ccaa_filtrado.drop(columns=['PRECIO MEDIO kg', 'VOLUMEN (Miles Kg)'])"
   ]
  },
  {
   "cell_type": "code",
   "execution_count": 8,
   "id": "71953a87",
   "metadata": {
    "hidden": true
   },
   "outputs": [
    {
     "name": "stdout",
     "output_type": "stream",
     "text": [
      "<class 'pandas.core.frame.DataFrame'>\n",
      "RangeIndex: 61524 entries, 0 to 61523\n",
      "Data columns (total 10 columns):\n",
      " #   Column                       Non-Null Count  Dtype  \n",
      "---  ------                       --------------  -----  \n",
      " 0   Alimentos                    61524 non-null  object \n",
      " 1   CONSUMO X CAPITA             61524 non-null  float64\n",
      " 2   GASTO X CAPITA               61524 non-null  float64\n",
      " 3   PENETRACION (%)              61524 non-null  float64\n",
      " 4   PRECIO MEDIO kg ó litros     61524 non-null  float64\n",
      " 5   VALOR (Miles Euros)          61524 non-null  float64\n",
      " 6   VOLUMEN (Miles kg ó litros)  61524 non-null  float64\n",
      " 7   Mes                          61524 non-null  object \n",
      " 8   Año                          61524 non-null  int64  \n",
      " 9   CCAA                         61524 non-null  object \n",
      "dtypes: float64(6), int64(1), object(3)\n",
      "memory usage: 4.7+ MB\n"
     ]
    }
   ],
   "source": [
    "df_ccaa_filtrado.info()"
   ]
  },
  {
   "cell_type": "markdown",
   "id": "4612e648",
   "metadata": {
    "hidden": true
   },
   "source": [
    "Antes de transformar el mes a numérico, observamos como se presenta el mismo en cada dataset. Como se puede observar se presenta en distintos formatos, iniciando en mayuscula o míniscula y con algunos errores de escritura como en septeimbre."
   ]
  },
  {
   "cell_type": "code",
   "execution_count": 9,
   "id": "0cf1e3a3-db44-4b66-9447-9235cc47e28b",
   "metadata": {
    "hidden": true
   },
   "outputs": [
    {
     "data": {
      "text/plain": [
       "(array(['enero', 'febrero', 'marzo', 'abril', 'mayo', 'junio', 'julio',\n",
       "        'agosto', 'septiembre', 'octubre', 'noviembre', 'diciembre',\n",
       "        'Enero', 'Febrero', 'Marzo', 'Abril', 'Mayo', 'Junio', 'Julio',\n",
       "        'Agosto', 'Septiembre', 'Octubre', 'Noviembre', 'Diciembre',\n",
       "        'septeimbre'], dtype=object),\n",
       " array(['enero', 'febrero', 'marzo', 'abril', 'mayo', 'junio', 'julio',\n",
       "        'agosto', 'septiembre', 'octubre', 'noviembre', 'diciembre',\n",
       "        'Enero', 'Febrero', 'Marzo', 'Abril', 'Mayo', 'Junio', 'Julio',\n",
       "        'Agosto', 'Septiembre', 'Octubre', 'Noviembre', 'Diciembre',\n",
       "        'septeimbre'], dtype=object))"
      ]
     },
     "execution_count": 9,
     "metadata": {},
     "output_type": "execute_result"
    }
   ],
   "source": [
    "df_nacional_filtrado['Mes'].unique(),df_ccaa_filtrado['Mes'].unique()"
   ]
  },
  {
   "cell_type": "code",
   "execution_count": 10,
   "id": "91809aeb-6050-4800-b98f-b0c3387394e7",
   "metadata": {
    "hidden": true
   },
   "outputs": [],
   "source": [
    "meses_map = {\n",
    "    'enero': 1,\n",
    "    'febrero': 2,\n",
    "    'marzo': 3,\n",
    "    'abril': 4,\n",
    "    'mayo': 5,\n",
    "    'junio': 6,\n",
    "    'julio': 7,\n",
    "    'agosto': 8,\n",
    "    'septiembre': 9,\n",
    "    'septeimbre':9, #afecta específicamente a 2002\n",
    "    'octubre': 10,\n",
    "    'noviembre': 11,\n",
    "    'diciembre': 12\n",
    "}\n",
    "\n",
    "\n",
    "# Convertir los nombres de los meses a minúsculas y luego a números usando el diccionario para nacional y ccaa\n",
    "df_nacional_filtrado['Mes'] = df_nacional_filtrado['Mes'].str.lower().map(meses_map)\n",
    "df_ccaa_filtrado['Mes'] = df_ccaa_filtrado['Mes'].str.lower().map(meses_map)\n"
   ]
  },
  {
   "cell_type": "code",
   "execution_count": 11,
   "id": "d9ca8418-70ae-42d2-b542-ee80fec78e00",
   "metadata": {
    "hidden": true
   },
   "outputs": [
    {
     "data": {
      "text/plain": [
       "(array([ 1,  2,  3,  4,  5,  6,  7,  8,  9, 10, 11, 12], dtype=int64),\n",
       " array([ 1,  2,  3,  4,  5,  6,  7,  8,  9, 10, 11, 12], dtype=int64))"
      ]
     },
     "execution_count": 11,
     "metadata": {},
     "output_type": "execute_result"
    }
   ],
   "source": [
    "#Comprobar que esten bien definidos los meses\n",
    "df_nacional_filtrado['Mes'].unique(),df_ccaa_filtrado['Mes'].unique()"
   ]
  },
  {
   "cell_type": "code",
   "execution_count": 12,
   "id": "a2370318-3ead-438e-8f7c-03714a2e69ae",
   "metadata": {
    "hidden": true
   },
   "outputs": [],
   "source": [
    "df_lista = [df_nacional_filtrado, df_ccaa_filtrado]\n",
    "df_lista = [convertir_a_fecha(df) for df in df_lista]"
   ]
  },
  {
   "cell_type": "code",
   "execution_count": 13,
   "id": "c2afd8cc",
   "metadata": {
    "hidden": true
   },
   "outputs": [],
   "source": [
    "#Unificamos también nombres de comunidades autónomas\n",
    "ccaa_mapping = {\n",
    "    'ILLES BALEARS': 'BALEARES',\n",
    "    'COMUNITAT VALENCIANA': 'VALENCIA',\n",
    "    'REGIÓN DE MURCIA': 'MURCIA',\n",
    "    'COMUNIDAD DE MADRID': 'MADRID',\n",
    "    'CASTILLA - LA MANCHA': 'CASTILLA-LA MANCHA',\n",
    "    'PRINCIPADO DE ASTURIAS': 'ASTURIAS',\n",
    "    'CANTABRIA': 'CANTABRIA',\n",
    "    'PAIS VASCO': 'PAIS VASCO',\n",
    "    'LA RIOJA': 'LA RIOJA',\n",
    "    'C. FORAL DE NAVARRA': 'NAVARRA',\n",
    "    'CANARIAS': 'CANARIAS',\n",
    "    'ARAGON': 'ARAGÓN',\n",
    "    'T.ANDALUCIA': 'ANDALUCÍA',\n",
    "    'CASTILLA LA MANCHA': 'CASTILLA-LA MANCHA',\n",
    "    'CASTILLA LEON': 'CASTILLA Y LEÓN',\n",
    "    'CASTILLA Y LEON': 'CASTILLA Y LEÓN',\n",
    "    'RIOJA': 'LA RIOJA',\n",
    "    'EXTEMADURA':'EXTREMADURA',\n",
    "    'ANDALUCIA':'ANDALUCÍA',\n",
    "}\n",
    "\n",
    "df_ccaa_filtrado['CCAA'] = df_ccaa_filtrado['CCAA'].replace(ccaa_mapping)"
   ]
  },
  {
   "cell_type": "markdown",
   "id": "6995b1f9-328b-4a7c-80f1-a73c2b1dd9fd",
   "metadata": {
    "heading_collapsed": true,
    "hidden": true
   },
   "source": [
    "### DATOS ATÍPICOS"
   ]
  },
  {
   "cell_type": "markdown",
   "id": "cac8e285-20f3-47af-a2c6-958779253474",
   "metadata": {
    "hidden": true
   },
   "source": [
    "A continuación se realiza el estudio de datos atípicos de los distintos datasets. Dado que los datasets incluyen múltiples series temporales correspondientes a los distintos grupos de alimentos seleccionados, no es adecuado aplicar un análisis de valores atípicos directamente sobre el conjunto completo del dataset. En lugar de eso, es necesario segmentar el dataset en series temporales individuales basadas en cada grupo de alimento específico. Esto permitirá realizar un análisis de valores atípicos más preciso y relevante, ya que los patrones y comportamientos de cada grupo de alimento pueden variar significativamente. \n",
    "\n",
    "Además, en el análisis de los datos a nivel de comunidad autónoma, es importante reconocer que las variaciones entre las distintas variables pueden reflejar patrones específicos de cada región y no necesariamente deben considerarse como datos atípicos. Para evitar tratar estas variaciones regionales como anomalías, se realizará un desglose detallado del tratamiento de valores atípicos no solo a nivel de alimento, sino también a nivel de comunidad autónoma. "
   ]
  },
  {
   "cell_type": "code",
   "execution_count": 14,
   "id": "630b3e4d",
   "metadata": {
    "hidden": true
   },
   "outputs": [],
   "source": [
    "def atipicosAmissing(varaux):\n",
    "    \"\"\"\n",
    "    Esta función identifica valores atípicos en una serie de datos y los reemplaza por NaN.\n",
    "    \n",
    "    Datos de entrada:\n",
    "    - varaux: Serie de datos en la que se buscarán valores atípicos.\n",
    "    \n",
    "    Datos de salida:\n",
    "    - Una nueva serie de datos con valores atípicos reemplazados por NaN.\n",
    "    - El número de valores atípicos identificados.\n",
    "    \"\"\"\n",
    "    \n",
    "    # Verifica si la distribución de los datos es simétrica o asimétrica\n",
    "    if abs(varaux.skew()) < 1:\n",
    "        # Si es simétrica, calcula los valores atípicos basados en la desviación estándar\n",
    "        criterio1 = abs((varaux - varaux.mean()) / varaux.std()) > 3\n",
    "    else:\n",
    "        # Si es asimétrica, calcula la Desviación Absoluta de la Mediana (MAD) y los valores atípicos\n",
    "        mad = sm.robust.mad(varaux, axis=0)\n",
    "        criterio1 = abs((varaux - varaux.median()) / mad) > 8\n",
    "    \n",
    "    # Calcula los cuartiles 1 (Q1) y 3 (Q3) para determinar el rango intercuartílico (H)\n",
    "    qnt = varaux.quantile([0.25, 0.75]).dropna()\n",
    "    Q1 = qnt.iloc[0]\n",
    "    Q3 = qnt.iloc[1]\n",
    "    H = 3 * (Q3 - Q1)\n",
    "    \n",
    "    # Identifica valores atípicos que están fuera del rango intercuartílico\n",
    "    criterio2 = (varaux < (Q1 - H)) | (varaux > (Q3 + H))\n",
    "    \n",
    "    # Crea una copia de la serie original y reemplaza los valores atípicos por NaN\n",
    "    var = varaux.copy()\n",
    "    var[criterio1 & criterio2] = np.nan\n",
    "    \n",
    "    # Retorna la serie con valores atípicos reemplazados y el número de valores atípicos identificados\n",
    "    return [var, sum(criterio1 & criterio2)]"
   ]
  },
  {
   "cell_type": "code",
   "execution_count": 15,
   "id": "945f6c62",
   "metadata": {
    "hidden": true
   },
   "outputs": [],
   "source": [
    "# Listado de alimentos y comunidades autónomas para procesar\n",
    "seleccion_alimentos = df_nacional_filtrado['Alimentos'].unique()\n",
    "seleccion_ccaa = df_ccaa_filtrado['CCAA'].unique()\n",
    "\n",
    "# Diccionarios para almacenar las series\n",
    "dict_series_mensuales_nacional = {}\n",
    "dict_series_mensuales_ccaa = {}\n",
    "\n",
    "# Procesar las series a nivel nacional\n",
    "for alimento in seleccion_alimentos:\n",
    "    # Filtrar datos por alimento a nivel nacional\n",
    "    serie_nacional = df_nacional_filtrado[df_nacional_filtrado['Alimentos'] == alimento]\n",
    "    dict_series_mensuales_nacional[alimento] = serie_nacional\n",
    "\n",
    "    \n",
    "# Procesar las series por comunidad autónoma\n",
    "for ccaa in seleccion_ccaa:\n",
    "    # Filtrar datos por comunidad autónoma\n",
    "    serie_ccaa = df_ccaa_filtrado[df_ccaa_filtrado['CCAA'] == ccaa]\n",
    "    \n",
    "    # Crear un diccionario para almacenar las series filtradas por alimento para esta CCAA\n",
    "    dict_series_por_alimento = {}\n",
    "    \n",
    "    for alimento in seleccion_alimentos:\n",
    "        # Filtrar datos por alimento y comunidad autónoma\n",
    "        serie_alimento_ccaa = serie_ccaa[serie_ccaa['Alimentos'] == alimento]\n",
    "        if not serie_alimento_ccaa.empty:\n",
    "            dict_series_por_alimento[alimento] = serie_alimento_ccaa\n",
    "    \n",
    "    # Almacenar las series filtradas por alimento en el diccionario principal\n",
    "    dict_series_mensuales_ccaa[ccaa] = dict_series_por_alimento"
   ]
  },
  {
   "cell_type": "code",
   "execution_count": 16,
   "id": "65002cf5",
   "metadata": {
    "hidden": true,
    "scrolled": true
   },
   "outputs": [
    {
     "name": "stdout",
     "output_type": "stream",
     "text": [
      "T.HUEVOS KGS\n",
      "{'CONSUMO X CAPITA': 0.0, 'GASTO X CAPITA': 0.0033003300330033004, 'PENETRACION (%)': 0.0, 'PRECIO MEDIO kg ó litros': 0.0, 'VALOR (Miles Euros)': 0.0, 'VOLUMEN (Miles kg ó litros)': 0.07920792079207921}\n",
      "\n",
      "TOTAL CARNE\n",
      "{'CONSUMO X CAPITA': 0.0, 'GASTO X CAPITA': 0.006600660066006601, 'PENETRACION (%)': 0.0165016501650165, 'PRECIO MEDIO kg ó litros': 0.006600660066006601, 'VALOR (Miles Euros)': 0.0, 'VOLUMEN (Miles kg ó litros)': 0.0}\n",
      "\n",
      "TOTAL PESCA\n",
      "{'CONSUMO X CAPITA': 0.0, 'GASTO X CAPITA': 0.0033003300330033004, 'PENETRACION (%)': 0.0, 'PRECIO MEDIO kg ó litros': 0.0, 'VALOR (Miles Euros)': 0.0033003300330033004, 'VOLUMEN (Miles kg ó litros)': 0.0}\n",
      "\n",
      "TOTAL LECHE LIQUIDA\n",
      "{'CONSUMO X CAPITA': 0.0, 'GASTO X CAPITA': 0.0, 'PENETRACION (%)': 0.0, 'PRECIO MEDIO kg ó litros': 0.0, 'VALOR (Miles Euros)': 0.0, 'VOLUMEN (Miles kg ó litros)': 0.0}\n",
      "\n",
      "DERIVADOS LACTEOS\n",
      "{'CONSUMO X CAPITA': 0.0, 'GASTO X CAPITA': 0.0, 'PENETRACION (%)': 0.0033003300330033004, 'PRECIO MEDIO kg ó litros': 0.006600660066006601, 'VALOR (Miles Euros)': 0.0, 'VOLUMEN (Miles kg ó litros)': 0.0}\n",
      "\n",
      "PAN\n",
      "{'CONSUMO X CAPITA': 0.0, 'GASTO X CAPITA': 0.0, 'PENETRACION (%)': 0.0, 'PRECIO MEDIO kg ó litros': 0.0, 'VALOR (Miles Euros)': 0.0, 'VOLUMEN (Miles kg ó litros)': 0.0}\n",
      "\n",
      "ARROZ\n",
      "{'CONSUMO X CAPITA': 0.0, 'GASTO X CAPITA': 0.006600660066006601, 'PENETRACION (%)': 0.0, 'PRECIO MEDIO kg ó litros': 0.0, 'VALOR (Miles Euros)': 0.0, 'VOLUMEN (Miles kg ó litros)': 0.07590759075907591}\n",
      "\n",
      "TOTAL PASTAS\n",
      "{'CONSUMO X CAPITA': 0.0, 'GASTO X CAPITA': 0.0, 'PENETRACION (%)': 0.0, 'PRECIO MEDIO kg ó litros': 0.0, 'VALOR (Miles Euros)': 0.0, 'VOLUMEN (Miles kg ó litros)': 0.0}\n",
      "\n",
      "LEGUMBRES\n",
      "{'CONSUMO X CAPITA': 0.0033003300330033004, 'GASTO X CAPITA': 0.0, 'PENETRACION (%)': 0.0, 'PRECIO MEDIO kg ó litros': 0.0, 'VALOR (Miles Euros)': 0.0, 'VOLUMEN (Miles kg ó litros)': 0.0}\n",
      "\n",
      "T.HORTALIZAS FRESCAS\n",
      "{'CONSUMO X CAPITA': 0.0, 'GASTO X CAPITA': 0.0033003300330033004, 'PENETRACION (%)': 0.0, 'PRECIO MEDIO kg ó litros': 0.0, 'VALOR (Miles Euros)': 0.0, 'VOLUMEN (Miles kg ó litros)': 0.0}\n",
      "\n",
      "T.FRUTAS FRESCAS\n",
      "{'CONSUMO X CAPITA': 0.0, 'GASTO X CAPITA': 0.0, 'PENETRACION (%)': 0.0, 'PRECIO MEDIO kg ó litros': 0.0, 'VALOR (Miles Euros)': 0.0, 'VOLUMEN (Miles kg ó litros)': 0.0}\n",
      "\n",
      "PLATOS PREPARADOS\n",
      "{'CONSUMO X CAPITA': 0.0, 'GASTO X CAPITA': 0.0, 'PENETRACION (%)': 0.0, 'PRECIO MEDIO kg ó litros': 0.0, 'VALOR (Miles Euros)': 0.0, 'VOLUMEN (Miles kg ó litros)': 0.0}\n",
      "\n"
     ]
    }
   ],
   "source": [
    "#Definimos variables númericas del dataset\n",
    "var_num=['CONSUMO X CAPITA', 'GASTO X CAPITA', 'PENETRACION (%)','PRECIO MEDIO kg ó litros', 'VALOR (Miles Euros)',\n",
    "       'VOLUMEN (Miles kg ó litros)']\n",
    "\n",
    "#Recuento del porcentaje de atipicos de cada variable a nivel nacional\n",
    "#La proporción de valores atípicos se calcula dividiendo la cantidad de valores atípicos por el número total de filas.\n",
    "for alimento, serie in dict_series_mensuales_nacional.items():\n",
    "    resultados_nacional = {x: atipicosAmissing(serie[x])[1] / len(serie) for x in var_num}\n",
    "    print(alimento)\n",
    "    print(f'{resultados_nacional}\\n')"
   ]
  },
  {
   "cell_type": "code",
   "execution_count": 17,
   "id": "c972e984",
   "metadata": {
    "hidden": true
   },
   "outputs": [
    {
     "name": "stdout",
     "output_type": "stream",
     "text": [
      "CATALUÑA------------------------------------------------------------------------------------>\n",
      " Resultados de valores atípicos para T.HUEVOS KGS: {'CONSUMO X CAPITA': 0.010752688172043012, 'GASTO X CAPITA': 0.0, 'PENETRACION (%)': 0.0, 'PRECIO MEDIO kg ó litros': 0.0, 'VALOR (Miles Euros)': 0.0, 'VOLUMEN (Miles kg ó litros)': 0.007168458781362007}\n",
      "\n",
      " Resultados de valores atípicos para TOTAL CARNE: {'CONSUMO X CAPITA': 0.0, 'GASTO X CAPITA': 0.0, 'PENETRACION (%)': 0.010752688172043012, 'PRECIO MEDIO kg ó litros': 0.0035842293906810036, 'VALOR (Miles Euros)': 0.0, 'VOLUMEN (Miles kg ó litros)': 0.0}\n",
      "\n",
      " Resultados de valores atípicos para TOTAL PESCA: {'CONSUMO X CAPITA': 0.0, 'GASTO X CAPITA': 0.025089605734767026, 'PENETRACION (%)': 0.0, 'PRECIO MEDIO kg ó litros': 0.0, 'VALOR (Miles Euros)': 0.0035842293906810036, 'VOLUMEN (Miles kg ó litros)': 0.0}\n",
      "\n",
      " Resultados de valores atípicos para TOTAL LECHE LIQUIDA: {'CONSUMO X CAPITA': 0.0, 'GASTO X CAPITA': 0.0, 'PENETRACION (%)': 0.0, 'PRECIO MEDIO kg ó litros': 0.0, 'VALOR (Miles Euros)': 0.0, 'VOLUMEN (Miles kg ó litros)': 0.0}\n",
      "\n",
      " Resultados de valores atípicos para DERIVADOS LACTEOS: {'CONSUMO X CAPITA': 0.0, 'GASTO X CAPITA': 0.0, 'PENETRACION (%)': 0.010752688172043012, 'PRECIO MEDIO kg ó litros': 0.007168458781362007, 'VALOR (Miles Euros)': 0.0, 'VOLUMEN (Miles kg ó litros)': 0.0}\n",
      "\n",
      " Resultados de valores atípicos para PAN: {'CONSUMO X CAPITA': 0.0, 'GASTO X CAPITA': 0.0, 'PENETRACION (%)': 0.010752688172043012, 'PRECIO MEDIO kg ó litros': 0.0, 'VALOR (Miles Euros)': 0.0, 'VOLUMEN (Miles kg ó litros)': 0.0}\n",
      "\n",
      " Resultados de valores atípicos para ARROZ: {'CONSUMO X CAPITA': 0.0035842293906810036, 'GASTO X CAPITA': 0.0, 'PENETRACION (%)': 0.0, 'PRECIO MEDIO kg ó litros': 0.0, 'VALOR (Miles Euros)': 0.0, 'VOLUMEN (Miles kg ó litros)': 0.0035842293906810036}\n",
      "\n",
      " Resultados de valores atípicos para TOTAL PASTAS: {'CONSUMO X CAPITA': 0.0, 'GASTO X CAPITA': 0.0, 'PENETRACION (%)': 0.0, 'PRECIO MEDIO kg ó litros': 0.0, 'VALOR (Miles Euros)': 0.0, 'VOLUMEN (Miles kg ó litros)': 0.0}\n",
      "\n",
      " Resultados de valores atípicos para LEGUMBRES: {'CONSUMO X CAPITA': 0.0, 'GASTO X CAPITA': 0.0035842293906810036, 'PENETRACION (%)': 0.0, 'PRECIO MEDIO kg ó litros': 0.0, 'VALOR (Miles Euros)': 0.0035842293906810036, 'VOLUMEN (Miles kg ó litros)': 0.0035842293906810036}\n",
      "\n",
      " Resultados de valores atípicos para T.HORTALIZAS FRESCAS: {'CONSUMO X CAPITA': 0.0, 'GASTO X CAPITA': 0.0, 'PENETRACION (%)': 0.0, 'PRECIO MEDIO kg ó litros': 0.0, 'VALOR (Miles Euros)': 0.0, 'VOLUMEN (Miles kg ó litros)': 0.0}\n",
      "\n",
      " Resultados de valores atípicos para T.FRUTAS FRESCAS: {'CONSUMO X CAPITA': 0.0, 'GASTO X CAPITA': 0.0, 'PENETRACION (%)': 0.0, 'PRECIO MEDIO kg ó litros': 0.0, 'VALOR (Miles Euros)': 0.0, 'VOLUMEN (Miles kg ó litros)': 0.0}\n",
      "\n",
      " Resultados de valores atípicos para PLATOS PREPARADOS: {'CONSUMO X CAPITA': 0.0, 'GASTO X CAPITA': 0.0, 'PENETRACION (%)': 0.0, 'PRECIO MEDIO kg ó litros': 0.0035842293906810036, 'VALOR (Miles Euros)': 0.0, 'VOLUMEN (Miles kg ó litros)': 0.0}\n",
      "\n",
      "ARAGÓN------------------------------------------------------------------------------------>\n",
      " Resultados de valores atípicos para T.HUEVOS KGS: {'CONSUMO X CAPITA': 0.0, 'GASTO X CAPITA': 0.0, 'PENETRACION (%)': 0.0, 'PRECIO MEDIO kg ó litros': 0.0, 'VALOR (Miles Euros)': 0.0, 'VOLUMEN (Miles kg ó litros)': 0.0}\n",
      "\n",
      " Resultados de valores atípicos para TOTAL CARNE: {'CONSUMO X CAPITA': 0.0, 'GASTO X CAPITA': 0.0, 'PENETRACION (%)': 0.0, 'PRECIO MEDIO kg ó litros': 0.006600660066006601, 'VALOR (Miles Euros)': 0.0, 'VOLUMEN (Miles kg ó litros)': 0.0}\n",
      "\n",
      " Resultados de valores atípicos para TOTAL PESCA: {'CONSUMO X CAPITA': 0.0, 'GASTO X CAPITA': 0.0, 'PENETRACION (%)': 0.0, 'PRECIO MEDIO kg ó litros': 0.0, 'VALOR (Miles Euros)': 0.0, 'VOLUMEN (Miles kg ó litros)': 0.0}\n",
      "\n",
      " Resultados de valores atípicos para TOTAL LECHE LIQUIDA: {'CONSUMO X CAPITA': 0.0, 'GASTO X CAPITA': 0.0, 'PENETRACION (%)': 0.0, 'PRECIO MEDIO kg ó litros': 0.0033003300330033004, 'VALOR (Miles Euros)': 0.0, 'VOLUMEN (Miles kg ó litros)': 0.0}\n",
      "\n",
      " Resultados de valores atípicos para DERIVADOS LACTEOS: {'CONSUMO X CAPITA': 0.0, 'GASTO X CAPITA': 0.0, 'PENETRACION (%)': 0.0, 'PRECIO MEDIO kg ó litros': 0.006600660066006601, 'VALOR (Miles Euros)': 0.0, 'VOLUMEN (Miles kg ó litros)': 0.0}\n",
      "\n",
      " Resultados de valores atípicos para PAN: {'CONSUMO X CAPITA': 0.0, 'GASTO X CAPITA': 0.0, 'PENETRACION (%)': 0.0, 'PRECIO MEDIO kg ó litros': 0.0, 'VALOR (Miles Euros)': 0.0, 'VOLUMEN (Miles kg ó litros)': 0.0}\n",
      "\n",
      " Resultados de valores atípicos para ARROZ: {'CONSUMO X CAPITA': 0.0, 'GASTO X CAPITA': 0.0, 'PENETRACION (%)': 0.0, 'PRECIO MEDIO kg ó litros': 0.0, 'VALOR (Miles Euros)': 0.0, 'VOLUMEN (Miles kg ó litros)': 0.0}\n",
      "\n",
      " Resultados de valores atípicos para TOTAL PASTAS: {'CONSUMO X CAPITA': 0.0, 'GASTO X CAPITA': 0.0, 'PENETRACION (%)': 0.0, 'PRECIO MEDIO kg ó litros': 0.0, 'VALOR (Miles Euros)': 0.0, 'VOLUMEN (Miles kg ó litros)': 0.0}\n",
      "\n",
      " Resultados de valores atípicos para LEGUMBRES: {'CONSUMO X CAPITA': 0.0, 'GASTO X CAPITA': 0.0, 'PENETRACION (%)': 0.0, 'PRECIO MEDIO kg ó litros': 0.0, 'VALOR (Miles Euros)': 0.0, 'VOLUMEN (Miles kg ó litros)': 0.0}\n",
      "\n",
      " Resultados de valores atípicos para T.HORTALIZAS FRESCAS: {'CONSUMO X CAPITA': 0.0, 'GASTO X CAPITA': 0.0, 'PENETRACION (%)': 0.0, 'PRECIO MEDIO kg ó litros': 0.0, 'VALOR (Miles Euros)': 0.0, 'VOLUMEN (Miles kg ó litros)': 0.0}\n",
      "\n",
      " Resultados de valores atípicos para T.FRUTAS FRESCAS: {'CONSUMO X CAPITA': 0.0, 'GASTO X CAPITA': 0.0, 'PENETRACION (%)': 0.0, 'PRECIO MEDIO kg ó litros': 0.0, 'VALOR (Miles Euros)': 0.0, 'VOLUMEN (Miles kg ó litros)': 0.0}\n",
      "\n",
      " Resultados de valores atípicos para PLATOS PREPARADOS: {'CONSUMO X CAPITA': 0.0, 'GASTO X CAPITA': 0.0, 'PENETRACION (%)': 0.0, 'PRECIO MEDIO kg ó litros': 0.006600660066006601, 'VALOR (Miles Euros)': 0.0, 'VOLUMEN (Miles kg ó litros)': 0.0}\n",
      "\n",
      "BALEARES------------------------------------------------------------------------------------>\n",
      " Resultados de valores atípicos para T.HUEVOS KGS: {'CONSUMO X CAPITA': 0.0033003300330033004, 'GASTO X CAPITA': 0.0, 'PENETRACION (%)': 0.0, 'PRECIO MEDIO kg ó litros': 0.0, 'VALOR (Miles Euros)': 0.0, 'VOLUMEN (Miles kg ó litros)': 0.0}\n",
      "\n",
      " Resultados de valores atípicos para TOTAL CARNE: {'CONSUMO X CAPITA': 0.0033003300330033004, 'GASTO X CAPITA': 0.0, 'PENETRACION (%)': 0.009900990099009901, 'PRECIO MEDIO kg ó litros': 0.0, 'VALOR (Miles Euros)': 0.0, 'VOLUMEN (Miles kg ó litros)': 0.0}\n",
      "\n",
      " Resultados de valores atípicos para TOTAL PESCA: {'CONSUMO X CAPITA': 0.0033003300330033004, 'GASTO X CAPITA': 0.0033003300330033004, 'PENETRACION (%)': 0.0, 'PRECIO MEDIO kg ó litros': 0.0, 'VALOR (Miles Euros)': 0.0, 'VOLUMEN (Miles kg ó litros)': 0.0}\n",
      "\n",
      " Resultados de valores atípicos para TOTAL LECHE LIQUIDA: {'CONSUMO X CAPITA': 0.0, 'GASTO X CAPITA': 0.0, 'PENETRACION (%)': 0.0, 'PRECIO MEDIO kg ó litros': 0.0, 'VALOR (Miles Euros)': 0.0, 'VOLUMEN (Miles kg ó litros)': 0.0}\n",
      "\n",
      " Resultados de valores atípicos para DERIVADOS LACTEOS: {'CONSUMO X CAPITA': 0.0033003300330033004, 'GASTO X CAPITA': 0.0, 'PENETRACION (%)': 0.0, 'PRECIO MEDIO kg ó litros': 0.013201320132013201, 'VALOR (Miles Euros)': 0.0, 'VOLUMEN (Miles kg ó litros)': 0.0}\n",
      "\n",
      " Resultados de valores atípicos para PAN: {'CONSUMO X CAPITA': 0.0, 'GASTO X CAPITA': 0.0, 'PENETRACION (%)': 0.006600660066006601, 'PRECIO MEDIO kg ó litros': 0.0, 'VALOR (Miles Euros)': 0.0, 'VOLUMEN (Miles kg ó litros)': 0.0}\n",
      "\n",
      " Resultados de valores atípicos para ARROZ: {'CONSUMO X CAPITA': 0.0, 'GASTO X CAPITA': 0.0, 'PENETRACION (%)': 0.0, 'PRECIO MEDIO kg ó litros': 0.0, 'VALOR (Miles Euros)': 0.0, 'VOLUMEN (Miles kg ó litros)': 0.0}\n",
      "\n",
      " Resultados de valores atípicos para TOTAL PASTAS: {'CONSUMO X CAPITA': 0.0, 'GASTO X CAPITA': 0.0, 'PENETRACION (%)': 0.0, 'PRECIO MEDIO kg ó litros': 0.0, 'VALOR (Miles Euros)': 0.0, 'VOLUMEN (Miles kg ó litros)': 0.0}\n",
      "\n",
      " Resultados de valores atípicos para LEGUMBRES: {'CONSUMO X CAPITA': 0.0033003300330033004, 'GASTO X CAPITA': 0.0, 'PENETRACION (%)': 0.0, 'PRECIO MEDIO kg ó litros': 0.0, 'VALOR (Miles Euros)': 0.0, 'VOLUMEN (Miles kg ó litros)': 0.0033003300330033004}\n",
      "\n",
      " Resultados de valores atípicos para T.HORTALIZAS FRESCAS: {'CONSUMO X CAPITA': 0.0, 'GASTO X CAPITA': 0.006600660066006601, 'PENETRACION (%)': 0.0, 'PRECIO MEDIO kg ó litros': 0.0, 'VALOR (Miles Euros)': 0.0, 'VOLUMEN (Miles kg ó litros)': 0.0}\n",
      "\n",
      " Resultados de valores atípicos para T.FRUTAS FRESCAS: {'CONSUMO X CAPITA': 0.0, 'GASTO X CAPITA': 0.0, 'PENETRACION (%)': 0.0, 'PRECIO MEDIO kg ó litros': 0.0, 'VALOR (Miles Euros)': 0.0, 'VOLUMEN (Miles kg ó litros)': 0.0}\n",
      "\n"
     ]
    },
    {
     "name": "stdout",
     "output_type": "stream",
     "text": [
      " Resultados de valores atípicos para PLATOS PREPARADOS: {'CONSUMO X CAPITA': 0.0, 'GASTO X CAPITA': 0.0, 'PENETRACION (%)': 0.0, 'PRECIO MEDIO kg ó litros': 0.0, 'VALOR (Miles Euros)': 0.0, 'VOLUMEN (Miles kg ó litros)': 0.0}\n",
      "\n",
      "VALENCIA------------------------------------------------------------------------------------>\n",
      " Resultados de valores atípicos para T.HUEVOS KGS: {'CONSUMO X CAPITA': 0.006600660066006601, 'GASTO X CAPITA': 0.0, 'PENETRACION (%)': 0.0, 'PRECIO MEDIO kg ó litros': 0.0, 'VALOR (Miles Euros)': 0.0, 'VOLUMEN (Miles kg ó litros)': 0.0033003300330033004}\n",
      "\n",
      " Resultados de valores atípicos para TOTAL CARNE: {'CONSUMO X CAPITA': 0.0, 'GASTO X CAPITA': 0.0033003300330033004, 'PENETRACION (%)': 0.0165016501650165, 'PRECIO MEDIO kg ó litros': 0.0033003300330033004, 'VALOR (Miles Euros)': 0.0, 'VOLUMEN (Miles kg ó litros)': 0.0}\n",
      "\n",
      " Resultados de valores atípicos para TOTAL PESCA: {'CONSUMO X CAPITA': 0.0, 'GASTO X CAPITA': 0.009900990099009901, 'PENETRACION (%)': 0.0, 'PRECIO MEDIO kg ó litros': 0.0, 'VALOR (Miles Euros)': 0.0033003300330033004, 'VOLUMEN (Miles kg ó litros)': 0.0}\n",
      "\n",
      " Resultados de valores atípicos para TOTAL LECHE LIQUIDA: {'CONSUMO X CAPITA': 0.0, 'GASTO X CAPITA': 0.0, 'PENETRACION (%)': 0.0, 'PRECIO MEDIO kg ó litros': 0.0, 'VALOR (Miles Euros)': 0.0, 'VOLUMEN (Miles kg ó litros)': 0.0}\n",
      "\n",
      " Resultados de valores atípicos para DERIVADOS LACTEOS: {'CONSUMO X CAPITA': 0.0, 'GASTO X CAPITA': 0.0, 'PENETRACION (%)': 0.009900990099009901, 'PRECIO MEDIO kg ó litros': 0.006600660066006601, 'VALOR (Miles Euros)': 0.0, 'VOLUMEN (Miles kg ó litros)': 0.0}\n",
      "\n",
      " Resultados de valores atípicos para PAN: {'CONSUMO X CAPITA': 0.0, 'GASTO X CAPITA': 0.0, 'PENETRACION (%)': 0.0, 'PRECIO MEDIO kg ó litros': 0.0, 'VALOR (Miles Euros)': 0.0, 'VOLUMEN (Miles kg ó litros)': 0.0}\n",
      "\n",
      " Resultados de valores atípicos para ARROZ: {'CONSUMO X CAPITA': 0.0, 'GASTO X CAPITA': 0.006600660066006601, 'PENETRACION (%)': 0.0, 'PRECIO MEDIO kg ó litros': 0.0, 'VALOR (Miles Euros)': 0.006600660066006601, 'VOLUMEN (Miles kg ó litros)': 0.0}\n",
      "\n",
      " Resultados de valores atípicos para TOTAL PASTAS: {'CONSUMO X CAPITA': 0.0, 'GASTO X CAPITA': 0.0, 'PENETRACION (%)': 0.0, 'PRECIO MEDIO kg ó litros': 0.0, 'VALOR (Miles Euros)': 0.0, 'VOLUMEN (Miles kg ó litros)': 0.006600660066006601}\n",
      "\n",
      " Resultados de valores atípicos para LEGUMBRES: {'CONSUMO X CAPITA': 0.0, 'GASTO X CAPITA': 0.0, 'PENETRACION (%)': 0.0, 'PRECIO MEDIO kg ó litros': 0.0, 'VALOR (Miles Euros)': 0.0, 'VOLUMEN (Miles kg ó litros)': 0.0}\n",
      "\n",
      " Resultados de valores atípicos para T.HORTALIZAS FRESCAS: {'CONSUMO X CAPITA': 0.0, 'GASTO X CAPITA': 0.0, 'PENETRACION (%)': 0.0, 'PRECIO MEDIO kg ó litros': 0.0, 'VALOR (Miles Euros)': 0.0, 'VOLUMEN (Miles kg ó litros)': 0.0}\n",
      "\n",
      " Resultados de valores atípicos para T.FRUTAS FRESCAS: {'CONSUMO X CAPITA': 0.0, 'GASTO X CAPITA': 0.0, 'PENETRACION (%)': 0.0, 'PRECIO MEDIO kg ó litros': 0.0, 'VALOR (Miles Euros)': 0.0, 'VOLUMEN (Miles kg ó litros)': 0.0}\n",
      "\n",
      " Resultados de valores atípicos para PLATOS PREPARADOS: {'CONSUMO X CAPITA': 0.0, 'GASTO X CAPITA': 0.0, 'PENETRACION (%)': 0.0, 'PRECIO MEDIO kg ó litros': 0.006600660066006601, 'VALOR (Miles Euros)': 0.0, 'VOLUMEN (Miles kg ó litros)': 0.0}\n",
      "\n",
      "MURCIA------------------------------------------------------------------------------------>\n",
      " Resultados de valores atípicos para T.HUEVOS KGS: {'CONSUMO X CAPITA': 0.0033003300330033004, 'GASTO X CAPITA': 0.0, 'PENETRACION (%)': 0.0, 'PRECIO MEDIO kg ó litros': 0.0, 'VALOR (Miles Euros)': 0.0, 'VOLUMEN (Miles kg ó litros)': 0.0}\n",
      "\n",
      " Resultados de valores atípicos para TOTAL CARNE: {'CONSUMO X CAPITA': 0.0, 'GASTO X CAPITA': 0.0, 'PENETRACION (%)': 0.019801980198019802, 'PRECIO MEDIO kg ó litros': 0.006600660066006601, 'VALOR (Miles Euros)': 0.0, 'VOLUMEN (Miles kg ó litros)': 0.0}\n",
      "\n",
      " Resultados de valores atípicos para TOTAL PESCA: {'CONSUMO X CAPITA': 0.0, 'GASTO X CAPITA': 0.0, 'PENETRACION (%)': 0.0, 'PRECIO MEDIO kg ó litros': 0.0, 'VALOR (Miles Euros)': 0.0, 'VOLUMEN (Miles kg ó litros)': 0.0}\n",
      "\n",
      " Resultados de valores atípicos para TOTAL LECHE LIQUIDA: {'CONSUMO X CAPITA': 0.0, 'GASTO X CAPITA': 0.0, 'PENETRACION (%)': 0.0, 'PRECIO MEDIO kg ó litros': 0.0033003300330033004, 'VALOR (Miles Euros)': 0.0, 'VOLUMEN (Miles kg ó litros)': 0.0}\n",
      "\n",
      " Resultados de valores atípicos para DERIVADOS LACTEOS: {'CONSUMO X CAPITA': 0.0, 'GASTO X CAPITA': 0.0, 'PENETRACION (%)': 0.0, 'PRECIO MEDIO kg ó litros': 0.009900990099009901, 'VALOR (Miles Euros)': 0.0, 'VOLUMEN (Miles kg ó litros)': 0.0}\n",
      "\n",
      " Resultados de valores atípicos para PAN: {'CONSUMO X CAPITA': 0.0, 'GASTO X CAPITA': 0.0, 'PENETRACION (%)': 0.0165016501650165, 'PRECIO MEDIO kg ó litros': 0.0, 'VALOR (Miles Euros)': 0.0, 'VOLUMEN (Miles kg ó litros)': 0.0}\n",
      "\n",
      " Resultados de valores atípicos para ARROZ: {'CONSUMO X CAPITA': 0.0, 'GASTO X CAPITA': 0.0, 'PENETRACION (%)': 0.0, 'PRECIO MEDIO kg ó litros': 0.0, 'VALOR (Miles Euros)': 0.0, 'VOLUMEN (Miles kg ó litros)': 0.0}\n",
      "\n",
      " Resultados de valores atípicos para TOTAL PASTAS: {'CONSUMO X CAPITA': 0.0, 'GASTO X CAPITA': 0.0, 'PENETRACION (%)': 0.0, 'PRECIO MEDIO kg ó litros': 0.0, 'VALOR (Miles Euros)': 0.0, 'VOLUMEN (Miles kg ó litros)': 0.0}\n",
      "\n",
      " Resultados de valores atípicos para LEGUMBRES: {'CONSUMO X CAPITA': 0.0, 'GASTO X CAPITA': 0.0, 'PENETRACION (%)': 0.0, 'PRECIO MEDIO kg ó litros': 0.0, 'VALOR (Miles Euros)': 0.0, 'VOLUMEN (Miles kg ó litros)': 0.0}\n",
      "\n",
      " Resultados de valores atípicos para T.HORTALIZAS FRESCAS: {'CONSUMO X CAPITA': 0.0, 'GASTO X CAPITA': 0.0, 'PENETRACION (%)': 0.0, 'PRECIO MEDIO kg ó litros': 0.0, 'VALOR (Miles Euros)': 0.0, 'VOLUMEN (Miles kg ó litros)': 0.0}\n",
      "\n",
      " Resultados de valores atípicos para T.FRUTAS FRESCAS: {'CONSUMO X CAPITA': 0.0, 'GASTO X CAPITA': 0.0, 'PENETRACION (%)': 0.0, 'PRECIO MEDIO kg ó litros': 0.0, 'VALOR (Miles Euros)': 0.0, 'VOLUMEN (Miles kg ó litros)': 0.0}\n",
      "\n",
      " Resultados de valores atípicos para PLATOS PREPARADOS: {'CONSUMO X CAPITA': 0.0, 'GASTO X CAPITA': 0.0, 'PENETRACION (%)': 0.0, 'PRECIO MEDIO kg ó litros': 0.0, 'VALOR (Miles Euros)': 0.0, 'VOLUMEN (Miles kg ó litros)': 0.0}\n",
      "\n",
      "ANDALUCÍA------------------------------------------------------------------------------------>\n",
      " Resultados de valores atípicos para T.HUEVOS KGS: {'CONSUMO X CAPITA': 0.0, 'GASTO X CAPITA': 0.0, 'PENETRACION (%)': 0.0, 'PRECIO MEDIO kg ó litros': 0.0, 'VALOR (Miles Euros)': 0.0, 'VOLUMEN (Miles kg ó litros)': 0.0}\n",
      "\n",
      " Resultados de valores atípicos para TOTAL CARNE: {'CONSUMO X CAPITA': 0.0033003300330033004, 'GASTO X CAPITA': 0.009900990099009901, 'PENETRACION (%)': 0.0, 'PRECIO MEDIO kg ó litros': 0.0033003300330033004, 'VALOR (Miles Euros)': 0.0033003300330033004, 'VOLUMEN (Miles kg ó litros)': 0.0}\n",
      "\n",
      " Resultados de valores atípicos para TOTAL PESCA: {'CONSUMO X CAPITA': 0.0, 'GASTO X CAPITA': 0.009900990099009901, 'PENETRACION (%)': 0.0, 'PRECIO MEDIO kg ó litros': 0.0, 'VALOR (Miles Euros)': 0.0033003300330033004, 'VOLUMEN (Miles kg ó litros)': 0.0}\n",
      "\n",
      " Resultados de valores atípicos para TOTAL LECHE LIQUIDA: {'CONSUMO X CAPITA': 0.0, 'GASTO X CAPITA': 0.0, 'PENETRACION (%)': 0.0, 'PRECIO MEDIO kg ó litros': 0.006600660066006601, 'VALOR (Miles Euros)': 0.0, 'VOLUMEN (Miles kg ó litros)': 0.0}\n",
      "\n",
      " Resultados de valores atípicos para DERIVADOS LACTEOS: {'CONSUMO X CAPITA': 0.0, 'GASTO X CAPITA': 0.0, 'PENETRACION (%)': 0.0, 'PRECIO MEDIO kg ó litros': 0.006600660066006601, 'VALOR (Miles Euros)': 0.0, 'VOLUMEN (Miles kg ó litros)': 0.0}\n",
      "\n",
      " Resultados de valores atípicos para PAN: {'CONSUMO X CAPITA': 0.0, 'GASTO X CAPITA': 0.0, 'PENETRACION (%)': 0.0, 'PRECIO MEDIO kg ó litros': 0.0, 'VALOR (Miles Euros)': 0.0, 'VOLUMEN (Miles kg ó litros)': 0.0}\n",
      "\n",
      " Resultados de valores atípicos para ARROZ: {'CONSUMO X CAPITA': 0.0, 'GASTO X CAPITA': 0.006600660066006601, 'PENETRACION (%)': 0.0033003300330033004, 'PRECIO MEDIO kg ó litros': 0.0, 'VALOR (Miles Euros)': 0.006600660066006601, 'VOLUMEN (Miles kg ó litros)': 0.0}\n",
      "\n",
      " Resultados de valores atípicos para TOTAL PASTAS: {'CONSUMO X CAPITA': 0.006600660066006601, 'GASTO X CAPITA': 0.0, 'PENETRACION (%)': 0.0, 'PRECIO MEDIO kg ó litros': 0.0, 'VALOR (Miles Euros)': 0.0, 'VOLUMEN (Miles kg ó litros)': 0.0033003300330033004}\n",
      "\n",
      " Resultados de valores atípicos para LEGUMBRES: {'CONSUMO X CAPITA': 0.0, 'GASTO X CAPITA': 0.0033003300330033004, 'PENETRACION (%)': 0.0, 'PRECIO MEDIO kg ó litros': 0.0, 'VALOR (Miles Euros)': 0.0033003300330033004, 'VOLUMEN (Miles kg ó litros)': 0.0}\n",
      "\n",
      " Resultados de valores atípicos para T.HORTALIZAS FRESCAS: {'CONSUMO X CAPITA': 0.0, 'GASTO X CAPITA': 0.0, 'PENETRACION (%)': 0.0, 'PRECIO MEDIO kg ó litros': 0.0, 'VALOR (Miles Euros)': 0.0, 'VOLUMEN (Miles kg ó litros)': 0.0}\n",
      "\n",
      " Resultados de valores atípicos para T.FRUTAS FRESCAS: {'CONSUMO X CAPITA': 0.0, 'GASTO X CAPITA': 0.0, 'PENETRACION (%)': 0.0, 'PRECIO MEDIO kg ó litros': 0.0, 'VALOR (Miles Euros)': 0.0, 'VOLUMEN (Miles kg ó litros)': 0.0}\n",
      "\n",
      " Resultados de valores atípicos para PLATOS PREPARADOS: {'CONSUMO X CAPITA': 0.0, 'GASTO X CAPITA': 0.0, 'PENETRACION (%)': 0.0, 'PRECIO MEDIO kg ó litros': 0.0, 'VALOR (Miles Euros)': 0.0, 'VOLUMEN (Miles kg ó litros)': 0.0}\n",
      "\n",
      "MADRID------------------------------------------------------------------------------------>\n"
     ]
    },
    {
     "name": "stdout",
     "output_type": "stream",
     "text": [
      " Resultados de valores atípicos para T.HUEVOS KGS: {'CONSUMO X CAPITA': 0.0033003300330033004, 'GASTO X CAPITA': 0.0033003300330033004, 'PENETRACION (%)': 0.0, 'PRECIO MEDIO kg ó litros': 0.0, 'VALOR (Miles Euros)': 0.0, 'VOLUMEN (Miles kg ó litros)': 0.006600660066006601}\n",
      "\n",
      " Resultados de valores atípicos para TOTAL CARNE: {'CONSUMO X CAPITA': 0.0, 'GASTO X CAPITA': 0.0, 'PENETRACION (%)': 0.019801980198019802, 'PRECIO MEDIO kg ó litros': 0.006600660066006601, 'VALOR (Miles Euros)': 0.0, 'VOLUMEN (Miles kg ó litros)': 0.0}\n",
      "\n",
      " Resultados de valores atípicos para TOTAL PESCA: {'CONSUMO X CAPITA': 0.0, 'GASTO X CAPITA': 0.0, 'PENETRACION (%)': 0.0, 'PRECIO MEDIO kg ó litros': 0.0, 'VALOR (Miles Euros)': 0.0, 'VOLUMEN (Miles kg ó litros)': 0.0}\n",
      "\n",
      " Resultados de valores atípicos para TOTAL LECHE LIQUIDA: {'CONSUMO X CAPITA': 0.0, 'GASTO X CAPITA': 0.0, 'PENETRACION (%)': 0.0, 'PRECIO MEDIO kg ó litros': 0.0, 'VALOR (Miles Euros)': 0.0, 'VOLUMEN (Miles kg ó litros)': 0.0}\n",
      "\n",
      " Resultados de valores atípicos para DERIVADOS LACTEOS: {'CONSUMO X CAPITA': 0.0, 'GASTO X CAPITA': 0.0, 'PENETRACION (%)': 0.0165016501650165, 'PRECIO MEDIO kg ó litros': 0.013201320132013201, 'VALOR (Miles Euros)': 0.0, 'VOLUMEN (Miles kg ó litros)': 0.0}\n",
      "\n",
      " Resultados de valores atípicos para PAN: {'CONSUMO X CAPITA': 0.0, 'GASTO X CAPITA': 0.0, 'PENETRACION (%)': 0.009900990099009901, 'PRECIO MEDIO kg ó litros': 0.0, 'VALOR (Miles Euros)': 0.0, 'VOLUMEN (Miles kg ó litros)': 0.0}\n",
      "\n",
      " Resultados de valores atípicos para ARROZ: {'CONSUMO X CAPITA': 0.006600660066006601, 'GASTO X CAPITA': 0.0, 'PENETRACION (%)': 0.0, 'PRECIO MEDIO kg ó litros': 0.0, 'VALOR (Miles Euros)': 0.0, 'VOLUMEN (Miles kg ó litros)': 0.0033003300330033004}\n",
      "\n",
      " Resultados de valores atípicos para TOTAL PASTAS: {'CONSUMO X CAPITA': 0.006600660066006601, 'GASTO X CAPITA': 0.0, 'PENETRACION (%)': 0.0, 'PRECIO MEDIO kg ó litros': 0.0, 'VALOR (Miles Euros)': 0.0, 'VOLUMEN (Miles kg ó litros)': 0.0}\n",
      "\n",
      " Resultados de valores atípicos para LEGUMBRES: {'CONSUMO X CAPITA': 0.0, 'GASTO X CAPITA': 0.0033003300330033004, 'PENETRACION (%)': 0.0, 'PRECIO MEDIO kg ó litros': 0.0, 'VALOR (Miles Euros)': 0.0, 'VOLUMEN (Miles kg ó litros)': 0.0033003300330033004}\n",
      "\n",
      " Resultados de valores atípicos para T.HORTALIZAS FRESCAS: {'CONSUMO X CAPITA': 0.0, 'GASTO X CAPITA': 0.0, 'PENETRACION (%)': 0.0033003300330033004, 'PRECIO MEDIO kg ó litros': 0.0, 'VALOR (Miles Euros)': 0.0, 'VOLUMEN (Miles kg ó litros)': 0.0}\n",
      "\n",
      " Resultados de valores atípicos para T.FRUTAS FRESCAS: {'CONSUMO X CAPITA': 0.0, 'GASTO X CAPITA': 0.0, 'PENETRACION (%)': 0.0, 'PRECIO MEDIO kg ó litros': 0.0, 'VALOR (Miles Euros)': 0.0, 'VOLUMEN (Miles kg ó litros)': 0.0}\n",
      "\n",
      " Resultados de valores atípicos para PLATOS PREPARADOS: {'CONSUMO X CAPITA': 0.0, 'GASTO X CAPITA': 0.0, 'PENETRACION (%)': 0.0, 'PRECIO MEDIO kg ó litros': 0.0165016501650165, 'VALOR (Miles Euros)': 0.0, 'VOLUMEN (Miles kg ó litros)': 0.0}\n",
      "\n",
      "CASTILLA-LA MANCHA------------------------------------------------------------------------------------>\n",
      " Resultados de valores atípicos para T.HUEVOS KGS: {'CONSUMO X CAPITA': 0.0, 'GASTO X CAPITA': 0.0, 'PENETRACION (%)': 0.0, 'PRECIO MEDIO kg ó litros': 0.0, 'VALOR (Miles Euros)': 0.0, 'VOLUMEN (Miles kg ó litros)': 0.0}\n",
      "\n",
      " Resultados de valores atípicos para TOTAL CARNE: {'CONSUMO X CAPITA': 0.0, 'GASTO X CAPITA': 0.0033003300330033004, 'PENETRACION (%)': 0.006600660066006601, 'PRECIO MEDIO kg ó litros': 0.0033003300330033004, 'VALOR (Miles Euros)': 0.0, 'VOLUMEN (Miles kg ó litros)': 0.0}\n",
      "\n",
      " Resultados de valores atípicos para TOTAL PESCA: {'CONSUMO X CAPITA': 0.0033003300330033004, 'GASTO X CAPITA': 0.0, 'PENETRACION (%)': 0.0, 'PRECIO MEDIO kg ó litros': 0.0, 'VALOR (Miles Euros)': 0.013201320132013201, 'VOLUMEN (Miles kg ó litros)': 0.0}\n",
      "\n",
      " Resultados de valores atípicos para TOTAL LECHE LIQUIDA: {'CONSUMO X CAPITA': 0.0, 'GASTO X CAPITA': 0.0, 'PENETRACION (%)': 0.0, 'PRECIO MEDIO kg ó litros': 0.0, 'VALOR (Miles Euros)': 0.0, 'VOLUMEN (Miles kg ó litros)': 0.0}\n",
      "\n",
      " Resultados de valores atípicos para DERIVADOS LACTEOS: {'CONSUMO X CAPITA': 0.0, 'GASTO X CAPITA': 0.0, 'PENETRACION (%)': 0.0033003300330033004, 'PRECIO MEDIO kg ó litros': 0.013201320132013201, 'VALOR (Miles Euros)': 0.0, 'VOLUMEN (Miles kg ó litros)': 0.0}\n",
      "\n",
      " Resultados de valores atípicos para PAN: {'CONSUMO X CAPITA': 0.0, 'GASTO X CAPITA': 0.0, 'PENETRACION (%)': 0.0, 'PRECIO MEDIO kg ó litros': 0.0, 'VALOR (Miles Euros)': 0.0, 'VOLUMEN (Miles kg ó litros)': 0.0}\n",
      "\n",
      " Resultados de valores atípicos para ARROZ: {'CONSUMO X CAPITA': 0.0, 'GASTO X CAPITA': 0.0, 'PENETRACION (%)': 0.0, 'PRECIO MEDIO kg ó litros': 0.0, 'VALOR (Miles Euros)': 0.0, 'VOLUMEN (Miles kg ó litros)': 0.0}\n",
      "\n",
      " Resultados de valores atípicos para TOTAL PASTAS: {'CONSUMO X CAPITA': 0.0, 'GASTO X CAPITA': 0.0, 'PENETRACION (%)': 0.0, 'PRECIO MEDIO kg ó litros': 0.0, 'VALOR (Miles Euros)': 0.0, 'VOLUMEN (Miles kg ó litros)': 0.0033003300330033004}\n",
      "\n",
      " Resultados de valores atípicos para LEGUMBRES: {'CONSUMO X CAPITA': 0.0, 'GASTO X CAPITA': 0.0033003300330033004, 'PENETRACION (%)': 0.0, 'PRECIO MEDIO kg ó litros': 0.0, 'VALOR (Miles Euros)': 0.0033003300330033004, 'VOLUMEN (Miles kg ó litros)': 0.0}\n",
      "\n",
      " Resultados de valores atípicos para T.HORTALIZAS FRESCAS: {'CONSUMO X CAPITA': 0.0, 'GASTO X CAPITA': 0.0, 'PENETRACION (%)': 0.0, 'PRECIO MEDIO kg ó litros': 0.0, 'VALOR (Miles Euros)': 0.0, 'VOLUMEN (Miles kg ó litros)': 0.0}\n",
      "\n",
      " Resultados de valores atípicos para T.FRUTAS FRESCAS: {'CONSUMO X CAPITA': 0.0, 'GASTO X CAPITA': 0.0, 'PENETRACION (%)': 0.0, 'PRECIO MEDIO kg ó litros': 0.0, 'VALOR (Miles Euros)': 0.0, 'VOLUMEN (Miles kg ó litros)': 0.0}\n",
      "\n",
      " Resultados de valores atípicos para PLATOS PREPARADOS: {'CONSUMO X CAPITA': 0.0, 'GASTO X CAPITA': 0.0, 'PENETRACION (%)': 0.0, 'PRECIO MEDIO kg ó litros': 0.0, 'VALOR (Miles Euros)': 0.0, 'VOLUMEN (Miles kg ó litros)': 0.0}\n",
      "\n",
      "EXTREMADURA------------------------------------------------------------------------------------>\n",
      " Resultados de valores atípicos para T.HUEVOS KGS: {'CONSUMO X CAPITA': 0.0, 'GASTO X CAPITA': 0.0, 'PENETRACION (%)': 0.0, 'PRECIO MEDIO kg ó litros': 0.0, 'VALOR (Miles Euros)': 0.0, 'VOLUMEN (Miles kg ó litros)': 0.0}\n",
      "\n",
      " Resultados de valores atípicos para TOTAL CARNE: {'CONSUMO X CAPITA': 0.0, 'GASTO X CAPITA': 0.006600660066006601, 'PENETRACION (%)': 0.0033003300330033004, 'PRECIO MEDIO kg ó litros': 0.0, 'VALOR (Miles Euros)': 0.0033003300330033004, 'VOLUMEN (Miles kg ó litros)': 0.0}\n",
      "\n",
      " Resultados de valores atípicos para TOTAL PESCA: {'CONSUMO X CAPITA': 0.0, 'GASTO X CAPITA': 0.0, 'PENETRACION (%)': 0.0, 'PRECIO MEDIO kg ó litros': 0.0, 'VALOR (Miles Euros)': 0.0, 'VOLUMEN (Miles kg ó litros)': 0.0}\n",
      "\n",
      " Resultados de valores atípicos para TOTAL LECHE LIQUIDA: {'CONSUMO X CAPITA': 0.0, 'GASTO X CAPITA': 0.0033003300330033004, 'PENETRACION (%)': 0.0, 'PRECIO MEDIO kg ó litros': 0.0, 'VALOR (Miles Euros)': 0.0, 'VOLUMEN (Miles kg ó litros)': 0.0}\n",
      "\n",
      " Resultados de valores atípicos para DERIVADOS LACTEOS: {'CONSUMO X CAPITA': 0.0033003300330033004, 'GASTO X CAPITA': 0.0, 'PENETRACION (%)': 0.0, 'PRECIO MEDIO kg ó litros': 0.026402640264026403, 'VALOR (Miles Euros)': 0.0, 'VOLUMEN (Miles kg ó litros)': 0.0033003300330033004}\n",
      "\n",
      " Resultados de valores atípicos para PAN: {'CONSUMO X CAPITA': 0.0, 'GASTO X CAPITA': 0.0, 'PENETRACION (%)': 0.0, 'PRECIO MEDIO kg ó litros': 0.0, 'VALOR (Miles Euros)': 0.0, 'VOLUMEN (Miles kg ó litros)': 0.0}\n",
      "\n",
      " Resultados de valores atípicos para ARROZ: {'CONSUMO X CAPITA': 0.0, 'GASTO X CAPITA': 0.0, 'PENETRACION (%)': 0.0, 'PRECIO MEDIO kg ó litros': 0.0, 'VALOR (Miles Euros)': 0.0, 'VOLUMEN (Miles kg ó litros)': 0.0}\n",
      "\n",
      " Resultados de valores atípicos para TOTAL PASTAS: {'CONSUMO X CAPITA': 0.006600660066006601, 'GASTO X CAPITA': 0.0, 'PENETRACION (%)': 0.0, 'PRECIO MEDIO kg ó litros': 0.0, 'VALOR (Miles Euros)': 0.0, 'VOLUMEN (Miles kg ó litros)': 0.006600660066006601}\n",
      "\n",
      " Resultados de valores atípicos para LEGUMBRES: {'CONSUMO X CAPITA': 0.0033003300330033004, 'GASTO X CAPITA': 0.0, 'PENETRACION (%)': 0.0, 'PRECIO MEDIO kg ó litros': 0.0, 'VALOR (Miles Euros)': 0.0, 'VOLUMEN (Miles kg ó litros)': 0.0033003300330033004}\n",
      "\n",
      " Resultados de valores atípicos para T.HORTALIZAS FRESCAS: {'CONSUMO X CAPITA': 0.0, 'GASTO X CAPITA': 0.0, 'PENETRACION (%)': 0.0, 'PRECIO MEDIO kg ó litros': 0.0, 'VALOR (Miles Euros)': 0.0, 'VOLUMEN (Miles kg ó litros)': 0.0}\n",
      "\n",
      " Resultados de valores atípicos para T.FRUTAS FRESCAS: {'CONSUMO X CAPITA': 0.0, 'GASTO X CAPITA': 0.0, 'PENETRACION (%)': 0.0, 'PRECIO MEDIO kg ó litros': 0.0, 'VALOR (Miles Euros)': 0.0, 'VOLUMEN (Miles kg ó litros)': 0.0}\n",
      "\n",
      " Resultados de valores atípicos para PLATOS PREPARADOS: {'CONSUMO X CAPITA': 0.0, 'GASTO X CAPITA': 0.0, 'PENETRACION (%)': 0.0, 'PRECIO MEDIO kg ó litros': 0.0, 'VALOR (Miles Euros)': 0.0, 'VOLUMEN (Miles kg ó litros)': 0.0}\n",
      "\n",
      "CASTILLA Y LEÓN------------------------------------------------------------------------------------>\n"
     ]
    },
    {
     "name": "stdout",
     "output_type": "stream",
     "text": [
      " Resultados de valores atípicos para T.HUEVOS KGS: {'CONSUMO X CAPITA': 0.0, 'GASTO X CAPITA': 0.0, 'PENETRACION (%)': 0.0, 'PRECIO MEDIO kg ó litros': 0.0, 'VALOR (Miles Euros)': 0.0, 'VOLUMEN (Miles kg ó litros)': 0.0}\n",
      "\n",
      " Resultados de valores atípicos para TOTAL CARNE: {'CONSUMO X CAPITA': 0.0, 'GASTO X CAPITA': 0.0, 'PENETRACION (%)': 0.0, 'PRECIO MEDIO kg ó litros': 0.013201320132013201, 'VALOR (Miles Euros)': 0.0, 'VOLUMEN (Miles kg ó litros)': 0.0}\n",
      "\n",
      " Resultados de valores atípicos para TOTAL PESCA: {'CONSUMO X CAPITA': 0.0033003300330033004, 'GASTO X CAPITA': 0.0033003300330033004, 'PENETRACION (%)': 0.0033003300330033004, 'PRECIO MEDIO kg ó litros': 0.0, 'VALOR (Miles Euros)': 0.0033003300330033004, 'VOLUMEN (Miles kg ó litros)': 0.0}\n",
      "\n",
      " Resultados de valores atípicos para TOTAL LECHE LIQUIDA: {'CONSUMO X CAPITA': 0.0, 'GASTO X CAPITA': 0.0, 'PENETRACION (%)': 0.0, 'PRECIO MEDIO kg ó litros': 0.0, 'VALOR (Miles Euros)': 0.0, 'VOLUMEN (Miles kg ó litros)': 0.0}\n",
      "\n",
      " Resultados de valores atípicos para DERIVADOS LACTEOS: {'CONSUMO X CAPITA': 0.0, 'GASTO X CAPITA': 0.0, 'PENETRACION (%)': 0.0, 'PRECIO MEDIO kg ó litros': 0.006600660066006601, 'VALOR (Miles Euros)': 0.0, 'VOLUMEN (Miles kg ó litros)': 0.0}\n",
      "\n",
      " Resultados de valores atípicos para PAN: {'CONSUMO X CAPITA': 0.0, 'GASTO X CAPITA': 0.0, 'PENETRACION (%)': 0.0033003300330033004, 'PRECIO MEDIO kg ó litros': 0.0, 'VALOR (Miles Euros)': 0.0, 'VOLUMEN (Miles kg ó litros)': 0.0}\n",
      "\n",
      " Resultados de valores atípicos para ARROZ: {'CONSUMO X CAPITA': 0.0, 'GASTO X CAPITA': 0.0, 'PENETRACION (%)': 0.0, 'PRECIO MEDIO kg ó litros': 0.0, 'VALOR (Miles Euros)': 0.0, 'VOLUMEN (Miles kg ó litros)': 0.0}\n",
      "\n",
      " Resultados de valores atípicos para TOTAL PASTAS: {'CONSUMO X CAPITA': 0.0033003300330033004, 'GASTO X CAPITA': 0.0, 'PENETRACION (%)': 0.0, 'PRECIO MEDIO kg ó litros': 0.0, 'VALOR (Miles Euros)': 0.0, 'VOLUMEN (Miles kg ó litros)': 0.0033003300330033004}\n",
      "\n",
      " Resultados de valores atípicos para LEGUMBRES: {'CONSUMO X CAPITA': 0.0033003300330033004, 'GASTO X CAPITA': 0.0033003300330033004, 'PENETRACION (%)': 0.0, 'PRECIO MEDIO kg ó litros': 0.0, 'VALOR (Miles Euros)': 0.0033003300330033004, 'VOLUMEN (Miles kg ó litros)': 0.0033003300330033004}\n",
      "\n",
      " Resultados de valores atípicos para T.HORTALIZAS FRESCAS: {'CONSUMO X CAPITA': 0.0, 'GASTO X CAPITA': 0.009900990099009901, 'PENETRACION (%)': 0.0, 'PRECIO MEDIO kg ó litros': 0.0, 'VALOR (Miles Euros)': 0.009900990099009901, 'VOLUMEN (Miles kg ó litros)': 0.0}\n",
      "\n",
      " Resultados de valores atípicos para T.FRUTAS FRESCAS: {'CONSUMO X CAPITA': 0.0, 'GASTO X CAPITA': 0.0, 'PENETRACION (%)': 0.0, 'PRECIO MEDIO kg ó litros': 0.0, 'VALOR (Miles Euros)': 0.0, 'VOLUMEN (Miles kg ó litros)': 0.0}\n",
      "\n",
      " Resultados de valores atípicos para PLATOS PREPARADOS: {'CONSUMO X CAPITA': 0.0, 'GASTO X CAPITA': 0.0, 'PENETRACION (%)': 0.0, 'PRECIO MEDIO kg ó litros': 0.0, 'VALOR (Miles Euros)': 0.0, 'VOLUMEN (Miles kg ó litros)': 0.0}\n",
      "\n",
      "GALICIA------------------------------------------------------------------------------------>\n",
      " Resultados de valores atípicos para T.HUEVOS KGS: {'CONSUMO X CAPITA': 0.006600660066006601, 'GASTO X CAPITA': 0.0, 'PENETRACION (%)': 0.0, 'PRECIO MEDIO kg ó litros': 0.0, 'VALOR (Miles Euros)': 0.0, 'VOLUMEN (Miles kg ó litros)': 0.0}\n",
      "\n",
      " Resultados de valores atípicos para TOTAL CARNE: {'CONSUMO X CAPITA': 0.0, 'GASTO X CAPITA': 0.009900990099009901, 'PENETRACION (%)': 0.0, 'PRECIO MEDIO kg ó litros': 0.0033003300330033004, 'VALOR (Miles Euros)': 0.0, 'VOLUMEN (Miles kg ó litros)': 0.0}\n",
      "\n",
      " Resultados de valores atípicos para TOTAL PESCA: {'CONSUMO X CAPITA': 0.0033003300330033004, 'GASTO X CAPITA': 0.009900990099009901, 'PENETRACION (%)': 0.0, 'PRECIO MEDIO kg ó litros': 0.0, 'VALOR (Miles Euros)': 0.006600660066006601, 'VOLUMEN (Miles kg ó litros)': 0.0033003300330033004}\n",
      "\n",
      " Resultados de valores atípicos para TOTAL LECHE LIQUIDA: {'CONSUMO X CAPITA': 0.0, 'GASTO X CAPITA': 0.0, 'PENETRACION (%)': 0.0, 'PRECIO MEDIO kg ó litros': 0.0, 'VALOR (Miles Euros)': 0.0, 'VOLUMEN (Miles kg ó litros)': 0.0}\n",
      "\n",
      " Resultados de valores atípicos para DERIVADOS LACTEOS: {'CONSUMO X CAPITA': 0.0, 'GASTO X CAPITA': 0.0, 'PENETRACION (%)': 0.0, 'PRECIO MEDIO kg ó litros': 0.0033003300330033004, 'VALOR (Miles Euros)': 0.0, 'VOLUMEN (Miles kg ó litros)': 0.0}\n",
      "\n",
      " Resultados de valores atípicos para PAN: {'CONSUMO X CAPITA': 0.0, 'GASTO X CAPITA': 0.0, 'PENETRACION (%)': 0.0, 'PRECIO MEDIO kg ó litros': 0.0, 'VALOR (Miles Euros)': 0.0, 'VOLUMEN (Miles kg ó litros)': 0.0}\n",
      "\n",
      " Resultados de valores atípicos para ARROZ: {'CONSUMO X CAPITA': 0.0, 'GASTO X CAPITA': 0.0, 'PENETRACION (%)': 0.0, 'PRECIO MEDIO kg ó litros': 0.0, 'VALOR (Miles Euros)': 0.0, 'VOLUMEN (Miles kg ó litros)': 0.0}\n",
      "\n",
      " Resultados de valores atípicos para TOTAL PASTAS: {'CONSUMO X CAPITA': 0.006600660066006601, 'GASTO X CAPITA': 0.0, 'PENETRACION (%)': 0.0, 'PRECIO MEDIO kg ó litros': 0.0, 'VALOR (Miles Euros)': 0.0, 'VOLUMEN (Miles kg ó litros)': 0.0033003300330033004}\n",
      "\n",
      " Resultados de valores atípicos para LEGUMBRES: {'CONSUMO X CAPITA': 0.0, 'GASTO X CAPITA': 0.0, 'PENETRACION (%)': 0.0, 'PRECIO MEDIO kg ó litros': 0.0, 'VALOR (Miles Euros)': 0.0, 'VOLUMEN (Miles kg ó litros)': 0.0}\n",
      "\n",
      " Resultados de valores atípicos para T.HORTALIZAS FRESCAS: {'CONSUMO X CAPITA': 0.0, 'GASTO X CAPITA': 0.0, 'PENETRACION (%)': 0.0, 'PRECIO MEDIO kg ó litros': 0.0, 'VALOR (Miles Euros)': 0.0, 'VOLUMEN (Miles kg ó litros)': 0.0033003300330033004}\n",
      "\n",
      " Resultados de valores atípicos para T.FRUTAS FRESCAS: {'CONSUMO X CAPITA': 0.0, 'GASTO X CAPITA': 0.0, 'PENETRACION (%)': 0.0, 'PRECIO MEDIO kg ó litros': 0.0, 'VALOR (Miles Euros)': 0.0, 'VOLUMEN (Miles kg ó litros)': 0.0}\n",
      "\n",
      " Resultados de valores atípicos para PLATOS PREPARADOS: {'CONSUMO X CAPITA': 0.0, 'GASTO X CAPITA': 0.0, 'PENETRACION (%)': 0.0, 'PRECIO MEDIO kg ó litros': 0.0, 'VALOR (Miles Euros)': 0.0, 'VOLUMEN (Miles kg ó litros)': 0.0}\n",
      "\n",
      "ASTURIAS------------------------------------------------------------------------------------>\n",
      " Resultados de valores atípicos para T.HUEVOS KGS: {'CONSUMO X CAPITA': 0.0, 'GASTO X CAPITA': 0.0, 'PENETRACION (%)': 0.0, 'PRECIO MEDIO kg ó litros': 0.0, 'VALOR (Miles Euros)': 0.0, 'VOLUMEN (Miles kg ó litros)': 0.0}\n",
      "\n",
      " Resultados de valores atípicos para TOTAL CARNE: {'CONSUMO X CAPITA': 0.0033003300330033004, 'GASTO X CAPITA': 0.0, 'PENETRACION (%)': 0.0, 'PRECIO MEDIO kg ó litros': 0.0033003300330033004, 'VALOR (Miles Euros)': 0.0, 'VOLUMEN (Miles kg ó litros)': 0.0033003300330033004}\n",
      "\n",
      " Resultados de valores atípicos para TOTAL PESCA: {'CONSUMO X CAPITA': 0.0033003300330033004, 'GASTO X CAPITA': 0.0, 'PENETRACION (%)': 0.0, 'PRECIO MEDIO kg ó litros': 0.0, 'VALOR (Miles Euros)': 0.0, 'VOLUMEN (Miles kg ó litros)': 0.0}\n",
      "\n",
      " Resultados de valores atípicos para TOTAL LECHE LIQUIDA: {'CONSUMO X CAPITA': 0.0, 'GASTO X CAPITA': 0.0033003300330033004, 'PENETRACION (%)': 0.0033003300330033004, 'PRECIO MEDIO kg ó litros': 0.0, 'VALOR (Miles Euros)': 0.0033003300330033004, 'VOLUMEN (Miles kg ó litros)': 0.0}\n",
      "\n",
      " Resultados de valores atípicos para DERIVADOS LACTEOS: {'CONSUMO X CAPITA': 0.0, 'GASTO X CAPITA': 0.0, 'PENETRACION (%)': 0.0, 'PRECIO MEDIO kg ó litros': 0.0, 'VALOR (Miles Euros)': 0.0, 'VOLUMEN (Miles kg ó litros)': 0.0}\n",
      "\n",
      " Resultados de valores atípicos para PAN: {'CONSUMO X CAPITA': 0.0, 'GASTO X CAPITA': 0.0, 'PENETRACION (%)': 0.0, 'PRECIO MEDIO kg ó litros': 0.0, 'VALOR (Miles Euros)': 0.0, 'VOLUMEN (Miles kg ó litros)': 0.0}\n",
      "\n",
      " Resultados de valores atípicos para ARROZ: {'CONSUMO X CAPITA': 0.0, 'GASTO X CAPITA': 0.0, 'PENETRACION (%)': 0.0, 'PRECIO MEDIO kg ó litros': 0.0, 'VALOR (Miles Euros)': 0.0, 'VOLUMEN (Miles kg ó litros)': 0.0}\n",
      "\n",
      " Resultados de valores atípicos para TOTAL PASTAS: {'CONSUMO X CAPITA': 0.0033003300330033004, 'GASTO X CAPITA': 0.0033003300330033004, 'PENETRACION (%)': 0.0, 'PRECIO MEDIO kg ó litros': 0.0, 'VALOR (Miles Euros)': 0.0033003300330033004, 'VOLUMEN (Miles kg ó litros)': 0.0033003300330033004}\n",
      "\n",
      " Resultados de valores atípicos para LEGUMBRES: {'CONSUMO X CAPITA': 0.0033003300330033004, 'GASTO X CAPITA': 0.0, 'PENETRACION (%)': 0.0, 'PRECIO MEDIO kg ó litros': 0.0, 'VALOR (Miles Euros)': 0.0, 'VOLUMEN (Miles kg ó litros)': 0.0033003300330033004}\n",
      "\n",
      " Resultados de valores atípicos para T.HORTALIZAS FRESCAS: {'CONSUMO X CAPITA': 0.0, 'GASTO X CAPITA': 0.0, 'PENETRACION (%)': 0.0, 'PRECIO MEDIO kg ó litros': 0.0, 'VALOR (Miles Euros)': 0.0, 'VOLUMEN (Miles kg ó litros)': 0.0}\n",
      "\n",
      " Resultados de valores atípicos para T.FRUTAS FRESCAS: {'CONSUMO X CAPITA': 0.0, 'GASTO X CAPITA': 0.0, 'PENETRACION (%)': 0.0, 'PRECIO MEDIO kg ó litros': 0.0, 'VALOR (Miles Euros)': 0.0, 'VOLUMEN (Miles kg ó litros)': 0.0}\n",
      "\n",
      " Resultados de valores atípicos para PLATOS PREPARADOS: {'CONSUMO X CAPITA': 0.0, 'GASTO X CAPITA': 0.0, 'PENETRACION (%)': 0.0, 'PRECIO MEDIO kg ó litros': 0.0, 'VALOR (Miles Euros)': 0.0, 'VOLUMEN (Miles kg ó litros)': 0.0}\n",
      "\n",
      "CANTABRIA------------------------------------------------------------------------------------>\n",
      " Resultados de valores atípicos para T.HUEVOS KGS: {'CONSUMO X CAPITA': 0.0, 'GASTO X CAPITA': 0.0, 'PENETRACION (%)': 0.0, 'PRECIO MEDIO kg ó litros': 0.0, 'VALOR (Miles Euros)': 0.0, 'VOLUMEN (Miles kg ó litros)': 0.0}\n",
      "\n"
     ]
    },
    {
     "name": "stdout",
     "output_type": "stream",
     "text": [
      " Resultados de valores atípicos para TOTAL CARNE: {'CONSUMO X CAPITA': 0.0, 'GASTO X CAPITA': 0.0, 'PENETRACION (%)': 0.0, 'PRECIO MEDIO kg ó litros': 0.0, 'VALOR (Miles Euros)': 0.0, 'VOLUMEN (Miles kg ó litros)': 0.0}\n",
      "\n",
      " Resultados de valores atípicos para TOTAL PESCA: {'CONSUMO X CAPITA': 0.0, 'GASTO X CAPITA': 0.0, 'PENETRACION (%)': 0.0, 'PRECIO MEDIO kg ó litros': 0.0, 'VALOR (Miles Euros)': 0.0, 'VOLUMEN (Miles kg ó litros)': 0.0}\n",
      "\n",
      " Resultados de valores atípicos para TOTAL LECHE LIQUIDA: {'CONSUMO X CAPITA': 0.0, 'GASTO X CAPITA': 0.0, 'PENETRACION (%)': 0.0, 'PRECIO MEDIO kg ó litros': 0.0033003300330033004, 'VALOR (Miles Euros)': 0.0, 'VOLUMEN (Miles kg ó litros)': 0.0}\n",
      "\n",
      " Resultados de valores atípicos para DERIVADOS LACTEOS: {'CONSUMO X CAPITA': 0.0, 'GASTO X CAPITA': 0.0, 'PENETRACION (%)': 0.0, 'PRECIO MEDIO kg ó litros': 0.0, 'VALOR (Miles Euros)': 0.0, 'VOLUMEN (Miles kg ó litros)': 0.0}\n",
      "\n",
      " Resultados de valores atípicos para PAN: {'CONSUMO X CAPITA': 0.0, 'GASTO X CAPITA': 0.0, 'PENETRACION (%)': 0.0, 'PRECIO MEDIO kg ó litros': 0.0, 'VALOR (Miles Euros)': 0.0, 'VOLUMEN (Miles kg ó litros)': 0.0}\n",
      "\n",
      " Resultados de valores atípicos para ARROZ: {'CONSUMO X CAPITA': 0.0, 'GASTO X CAPITA': 0.0, 'PENETRACION (%)': 0.0, 'PRECIO MEDIO kg ó litros': 0.0, 'VALOR (Miles Euros)': 0.0, 'VOLUMEN (Miles kg ó litros)': 0.0}\n",
      "\n",
      " Resultados de valores atípicos para TOTAL PASTAS: {'CONSUMO X CAPITA': 0.0, 'GASTO X CAPITA': 0.0, 'PENETRACION (%)': 0.0, 'PRECIO MEDIO kg ó litros': 0.0, 'VALOR (Miles Euros)': 0.0, 'VOLUMEN (Miles kg ó litros)': 0.0033003300330033004}\n",
      "\n",
      " Resultados de valores atípicos para LEGUMBRES: {'CONSUMO X CAPITA': 0.0, 'GASTO X CAPITA': 0.0, 'PENETRACION (%)': 0.0, 'PRECIO MEDIO kg ó litros': 0.0, 'VALOR (Miles Euros)': 0.0033003300330033004, 'VOLUMEN (Miles kg ó litros)': 0.0}\n",
      "\n",
      " Resultados de valores atípicos para T.HORTALIZAS FRESCAS: {'CONSUMO X CAPITA': 0.0, 'GASTO X CAPITA': 0.0, 'PENETRACION (%)': 0.0, 'PRECIO MEDIO kg ó litros': 0.0, 'VALOR (Miles Euros)': 0.0, 'VOLUMEN (Miles kg ó litros)': 0.0}\n",
      "\n",
      " Resultados de valores atípicos para T.FRUTAS FRESCAS: {'CONSUMO X CAPITA': 0.0, 'GASTO X CAPITA': 0.0, 'PENETRACION (%)': 0.0, 'PRECIO MEDIO kg ó litros': 0.0, 'VALOR (Miles Euros)': 0.0, 'VOLUMEN (Miles kg ó litros)': 0.0}\n",
      "\n",
      " Resultados de valores atípicos para PLATOS PREPARADOS: {'CONSUMO X CAPITA': 0.0, 'GASTO X CAPITA': 0.0, 'PENETRACION (%)': 0.0, 'PRECIO MEDIO kg ó litros': 0.0, 'VALOR (Miles Euros)': 0.0, 'VOLUMEN (Miles kg ó litros)': 0.0}\n",
      "\n",
      "PAIS VASCO------------------------------------------------------------------------------------>\n",
      " Resultados de valores atípicos para T.HUEVOS KGS: {'CONSUMO X CAPITA': 0.0, 'GASTO X CAPITA': 0.0, 'PENETRACION (%)': 0.0033003300330033004, 'PRECIO MEDIO kg ó litros': 0.0, 'VALOR (Miles Euros)': 0.0, 'VOLUMEN (Miles kg ó litros)': 0.0}\n",
      "\n",
      " Resultados de valores atípicos para TOTAL CARNE: {'CONSUMO X CAPITA': 0.0, 'GASTO X CAPITA': 0.0, 'PENETRACION (%)': 0.006600660066006601, 'PRECIO MEDIO kg ó litros': 0.006600660066006601, 'VALOR (Miles Euros)': 0.0, 'VOLUMEN (Miles kg ó litros)': 0.0}\n",
      "\n",
      " Resultados de valores atípicos para TOTAL PESCA: {'CONSUMO X CAPITA': 0.0, 'GASTO X CAPITA': 0.0, 'PENETRACION (%)': 0.0, 'PRECIO MEDIO kg ó litros': 0.0, 'VALOR (Miles Euros)': 0.0, 'VOLUMEN (Miles kg ó litros)': 0.0}\n",
      "\n",
      " Resultados de valores atípicos para TOTAL LECHE LIQUIDA: {'CONSUMO X CAPITA': 0.0, 'GASTO X CAPITA': 0.0, 'PENETRACION (%)': 0.013201320132013201, 'PRECIO MEDIO kg ó litros': 0.0, 'VALOR (Miles Euros)': 0.0, 'VOLUMEN (Miles kg ó litros)': 0.0}\n",
      "\n",
      " Resultados de valores atípicos para DERIVADOS LACTEOS: {'CONSUMO X CAPITA': 0.0, 'GASTO X CAPITA': 0.0, 'PENETRACION (%)': 0.0033003300330033004, 'PRECIO MEDIO kg ó litros': 0.0, 'VALOR (Miles Euros)': 0.0, 'VOLUMEN (Miles kg ó litros)': 0.0}\n",
      "\n",
      " Resultados de valores atípicos para PAN: {'CONSUMO X CAPITA': 0.0, 'GASTO X CAPITA': 0.0, 'PENETRACION (%)': 0.013201320132013201, 'PRECIO MEDIO kg ó litros': 0.0, 'VALOR (Miles Euros)': 0.0, 'VOLUMEN (Miles kg ó litros)': 0.0}\n",
      "\n",
      " Resultados de valores atípicos para ARROZ: {'CONSUMO X CAPITA': 0.0, 'GASTO X CAPITA': 0.0, 'PENETRACION (%)': 0.0, 'PRECIO MEDIO kg ó litros': 0.0, 'VALOR (Miles Euros)': 0.0, 'VOLUMEN (Miles kg ó litros)': 0.0}\n",
      "\n",
      " Resultados de valores atípicos para TOTAL PASTAS: {'CONSUMO X CAPITA': 0.0, 'GASTO X CAPITA': 0.0, 'PENETRACION (%)': 0.0, 'PRECIO MEDIO kg ó litros': 0.0, 'VALOR (Miles Euros)': 0.0, 'VOLUMEN (Miles kg ó litros)': 0.0033003300330033004}\n",
      "\n",
      " Resultados de valores atípicos para LEGUMBRES: {'CONSUMO X CAPITA': 0.0033003300330033004, 'GASTO X CAPITA': 0.0, 'PENETRACION (%)': 0.0, 'PRECIO MEDIO kg ó litros': 0.0, 'VALOR (Miles Euros)': 0.0, 'VOLUMEN (Miles kg ó litros)': 0.0033003300330033004}\n",
      "\n",
      " Resultados de valores atípicos para T.HORTALIZAS FRESCAS: {'CONSUMO X CAPITA': 0.0, 'GASTO X CAPITA': 0.0, 'PENETRACION (%)': 0.0033003300330033004, 'PRECIO MEDIO kg ó litros': 0.0, 'VALOR (Miles Euros)': 0.0, 'VOLUMEN (Miles kg ó litros)': 0.0}\n",
      "\n",
      " Resultados de valores atípicos para T.FRUTAS FRESCAS: {'CONSUMO X CAPITA': 0.0, 'GASTO X CAPITA': 0.0, 'PENETRACION (%)': 0.0, 'PRECIO MEDIO kg ó litros': 0.0, 'VALOR (Miles Euros)': 0.0, 'VOLUMEN (Miles kg ó litros)': 0.0}\n",
      "\n",
      " Resultados de valores atípicos para PLATOS PREPARADOS: {'CONSUMO X CAPITA': 0.0, 'GASTO X CAPITA': 0.0, 'PENETRACION (%)': 0.0, 'PRECIO MEDIO kg ó litros': 0.0, 'VALOR (Miles Euros)': 0.0, 'VOLUMEN (Miles kg ó litros)': 0.0}\n",
      "\n",
      "LA RIOJA------------------------------------------------------------------------------------>\n",
      " Resultados de valores atípicos para T.HUEVOS KGS: {'CONSUMO X CAPITA': 0.0, 'GASTO X CAPITA': 0.0, 'PENETRACION (%)': 0.0, 'PRECIO MEDIO kg ó litros': 0.0, 'VALOR (Miles Euros)': 0.0033003300330033004, 'VOLUMEN (Miles kg ó litros)': 0.0}\n",
      "\n",
      " Resultados de valores atípicos para TOTAL CARNE: {'CONSUMO X CAPITA': 0.0, 'GASTO X CAPITA': 0.0, 'PENETRACION (%)': 0.0033003300330033004, 'PRECIO MEDIO kg ó litros': 0.013201320132013201, 'VALOR (Miles Euros)': 0.0, 'VOLUMEN (Miles kg ó litros)': 0.0}\n",
      "\n",
      " Resultados de valores atípicos para TOTAL PESCA: {'CONSUMO X CAPITA': 0.0, 'GASTO X CAPITA': 0.0, 'PENETRACION (%)': 0.0, 'PRECIO MEDIO kg ó litros': 0.0, 'VALOR (Miles Euros)': 0.0, 'VOLUMEN (Miles kg ó litros)': 0.0}\n",
      "\n",
      " Resultados de valores atípicos para TOTAL LECHE LIQUIDA: {'CONSUMO X CAPITA': 0.0, 'GASTO X CAPITA': 0.0, 'PENETRACION (%)': 0.0, 'PRECIO MEDIO kg ó litros': 0.0, 'VALOR (Miles Euros)': 0.0, 'VOLUMEN (Miles kg ó litros)': 0.0}\n",
      "\n",
      " Resultados de valores atípicos para DERIVADOS LACTEOS: {'CONSUMO X CAPITA': 0.0, 'GASTO X CAPITA': 0.0, 'PENETRACION (%)': 0.0, 'PRECIO MEDIO kg ó litros': 0.009900990099009901, 'VALOR (Miles Euros)': 0.0, 'VOLUMEN (Miles kg ó litros)': 0.0}\n",
      "\n",
      " Resultados de valores atípicos para PAN: {'CONSUMO X CAPITA': 0.0, 'GASTO X CAPITA': 0.0, 'PENETRACION (%)': 0.0, 'PRECIO MEDIO kg ó litros': 0.0, 'VALOR (Miles Euros)': 0.006600660066006601, 'VOLUMEN (Miles kg ó litros)': 0.0}\n",
      "\n",
      " Resultados de valores atípicos para ARROZ: {'CONSUMO X CAPITA': 0.0, 'GASTO X CAPITA': 0.0, 'PENETRACION (%)': 0.0, 'PRECIO MEDIO kg ó litros': 0.0, 'VALOR (Miles Euros)': 0.0, 'VOLUMEN (Miles kg ó litros)': 0.0}\n",
      "\n",
      " Resultados de valores atípicos para TOTAL PASTAS: {'CONSUMO X CAPITA': 0.006600660066006601, 'GASTO X CAPITA': 0.0, 'PENETRACION (%)': 0.0, 'PRECIO MEDIO kg ó litros': 0.0, 'VALOR (Miles Euros)': 0.0, 'VOLUMEN (Miles kg ó litros)': 0.0033003300330033004}\n",
      "\n",
      " Resultados de valores atípicos para LEGUMBRES: {'CONSUMO X CAPITA': 0.0033003300330033004, 'GASTO X CAPITA': 0.0, 'PENETRACION (%)': 0.0, 'PRECIO MEDIO kg ó litros': 0.0, 'VALOR (Miles Euros)': 0.0, 'VOLUMEN (Miles kg ó litros)': 0.0033003300330033004}\n",
      "\n",
      " Resultados de valores atípicos para T.HORTALIZAS FRESCAS: {'CONSUMO X CAPITA': 0.0033003300330033004, 'GASTO X CAPITA': 0.0, 'PENETRACION (%)': 0.0, 'PRECIO MEDIO kg ó litros': 0.0, 'VALOR (Miles Euros)': 0.006600660066006601, 'VOLUMEN (Miles kg ó litros)': 0.0033003300330033004}\n",
      "\n",
      " Resultados de valores atípicos para T.FRUTAS FRESCAS: {'CONSUMO X CAPITA': 0.0, 'GASTO X CAPITA': 0.0, 'PENETRACION (%)': 0.0, 'PRECIO MEDIO kg ó litros': 0.0, 'VALOR (Miles Euros)': 0.0, 'VOLUMEN (Miles kg ó litros)': 0.0}\n",
      "\n",
      " Resultados de valores atípicos para PLATOS PREPARADOS: {'CONSUMO X CAPITA': 0.0, 'GASTO X CAPITA': 0.0, 'PENETRACION (%)': 0.0, 'PRECIO MEDIO kg ó litros': 0.0, 'VALOR (Miles Euros)': 0.0, 'VOLUMEN (Miles kg ó litros)': 0.0}\n",
      "\n",
      "NAVARRA------------------------------------------------------------------------------------>\n"
     ]
    },
    {
     "name": "stdout",
     "output_type": "stream",
     "text": [
      " Resultados de valores atípicos para T.HUEVOS KGS: {'CONSUMO X CAPITA': 0.0, 'GASTO X CAPITA': 0.0, 'PENETRACION (%)': 0.0, 'PRECIO MEDIO kg ó litros': 0.0, 'VALOR (Miles Euros)': 0.0, 'VOLUMEN (Miles kg ó litros)': 0.0}\n",
      "\n",
      " Resultados de valores atípicos para TOTAL CARNE: {'CONSUMO X CAPITA': 0.0, 'GASTO X CAPITA': 0.0, 'PENETRACION (%)': 0.0, 'PRECIO MEDIO kg ó litros': 0.0033003300330033004, 'VALOR (Miles Euros)': 0.0, 'VOLUMEN (Miles kg ó litros)': 0.0}\n",
      "\n",
      " Resultados de valores atípicos para TOTAL PESCA: {'CONSUMO X CAPITA': 0.0, 'GASTO X CAPITA': 0.0, 'PENETRACION (%)': 0.0, 'PRECIO MEDIO kg ó litros': 0.0, 'VALOR (Miles Euros)': 0.0, 'VOLUMEN (Miles kg ó litros)': 0.0}\n",
      "\n",
      " Resultados de valores atípicos para TOTAL LECHE LIQUIDA: {'CONSUMO X CAPITA': 0.0, 'GASTO X CAPITA': 0.0, 'PENETRACION (%)': 0.0, 'PRECIO MEDIO kg ó litros': 0.0, 'VALOR (Miles Euros)': 0.0, 'VOLUMEN (Miles kg ó litros)': 0.0}\n",
      "\n",
      " Resultados de valores atípicos para DERIVADOS LACTEOS: {'CONSUMO X CAPITA': 0.0, 'GASTO X CAPITA': 0.0, 'PENETRACION (%)': 0.0, 'PRECIO MEDIO kg ó litros': 0.0, 'VALOR (Miles Euros)': 0.0, 'VOLUMEN (Miles kg ó litros)': 0.0}\n",
      "\n",
      " Resultados de valores atípicos para PAN: {'CONSUMO X CAPITA': 0.0, 'GASTO X CAPITA': 0.0, 'PENETRACION (%)': 0.0, 'PRECIO MEDIO kg ó litros': 0.0, 'VALOR (Miles Euros)': 0.0, 'VOLUMEN (Miles kg ó litros)': 0.0}\n",
      "\n",
      " Resultados de valores atípicos para ARROZ: {'CONSUMO X CAPITA': 0.0, 'GASTO X CAPITA': 0.0, 'PENETRACION (%)': 0.0, 'PRECIO MEDIO kg ó litros': 0.0, 'VALOR (Miles Euros)': 0.0033003300330033004, 'VOLUMEN (Miles kg ó litros)': 0.0}\n",
      "\n",
      " Resultados de valores atípicos para TOTAL PASTAS: {'CONSUMO X CAPITA': 0.0, 'GASTO X CAPITA': 0.0, 'PENETRACION (%)': 0.0, 'PRECIO MEDIO kg ó litros': 0.0, 'VALOR (Miles Euros)': 0.0, 'VOLUMEN (Miles kg ó litros)': 0.0}\n",
      "\n",
      " Resultados de valores atípicos para LEGUMBRES: {'CONSUMO X CAPITA': 0.0033003300330033004, 'GASTO X CAPITA': 0.006600660066006601, 'PENETRACION (%)': 0.0, 'PRECIO MEDIO kg ó litros': 0.0, 'VALOR (Miles Euros)': 0.006600660066006601, 'VOLUMEN (Miles kg ó litros)': 0.0033003300330033004}\n",
      "\n",
      " Resultados de valores atípicos para T.HORTALIZAS FRESCAS: {'CONSUMO X CAPITA': 0.0033003300330033004, 'GASTO X CAPITA': 0.0033003300330033004, 'PENETRACION (%)': 0.0, 'PRECIO MEDIO kg ó litros': 0.0, 'VALOR (Miles Euros)': 0.0, 'VOLUMEN (Miles kg ó litros)': 0.0033003300330033004}\n",
      "\n",
      " Resultados de valores atípicos para T.FRUTAS FRESCAS: {'CONSUMO X CAPITA': 0.0, 'GASTO X CAPITA': 0.0, 'PENETRACION (%)': 0.0, 'PRECIO MEDIO kg ó litros': 0.0, 'VALOR (Miles Euros)': 0.0, 'VOLUMEN (Miles kg ó litros)': 0.0}\n",
      "\n",
      " Resultados de valores atípicos para PLATOS PREPARADOS: {'CONSUMO X CAPITA': 0.0, 'GASTO X CAPITA': 0.0, 'PENETRACION (%)': 0.0, 'PRECIO MEDIO kg ó litros': 0.0, 'VALOR (Miles Euros)': 0.0, 'VOLUMEN (Miles kg ó litros)': 0.0}\n",
      "\n",
      "CANARIAS------------------------------------------------------------------------------------>\n",
      " Resultados de valores atípicos para T.HUEVOS KGS: {'CONSUMO X CAPITA': 0.0, 'GASTO X CAPITA': 0.0, 'PENETRACION (%)': 0.0, 'PRECIO MEDIO kg ó litros': 0.0, 'VALOR (Miles Euros)': 0.0, 'VOLUMEN (Miles kg ó litros)': 0.0}\n",
      "\n",
      " Resultados de valores atípicos para TOTAL CARNE: {'CONSUMO X CAPITA': 0.0, 'GASTO X CAPITA': 0.0, 'PENETRACION (%)': 0.009900990099009901, 'PRECIO MEDIO kg ó litros': 0.0, 'VALOR (Miles Euros)': 0.0, 'VOLUMEN (Miles kg ó litros)': 0.0}\n",
      "\n",
      " Resultados de valores atípicos para TOTAL PESCA: {'CONSUMO X CAPITA': 0.0, 'GASTO X CAPITA': 0.0033003300330033004, 'PENETRACION (%)': 0.0, 'PRECIO MEDIO kg ó litros': 0.0, 'VALOR (Miles Euros)': 0.0, 'VOLUMEN (Miles kg ó litros)': 0.0}\n",
      "\n",
      " Resultados de valores atípicos para TOTAL LECHE LIQUIDA: {'CONSUMO X CAPITA': 0.0, 'GASTO X CAPITA': 0.0033003300330033004, 'PENETRACION (%)': 0.0, 'PRECIO MEDIO kg ó litros': 0.0, 'VALOR (Miles Euros)': 0.0033003300330033004, 'VOLUMEN (Miles kg ó litros)': 0.0}\n",
      "\n",
      " Resultados de valores atípicos para DERIVADOS LACTEOS: {'CONSUMO X CAPITA': 0.0, 'GASTO X CAPITA': 0.0, 'PENETRACION (%)': 0.0, 'PRECIO MEDIO kg ó litros': 0.006600660066006601, 'VALOR (Miles Euros)': 0.0, 'VOLUMEN (Miles kg ó litros)': 0.0}\n",
      "\n",
      " Resultados de valores atípicos para PAN: {'CONSUMO X CAPITA': 0.0, 'GASTO X CAPITA': 0.0, 'PENETRACION (%)': 0.0033003300330033004, 'PRECIO MEDIO kg ó litros': 0.0, 'VALOR (Miles Euros)': 0.0, 'VOLUMEN (Miles kg ó litros)': 0.0033003300330033004}\n",
      "\n",
      " Resultados de valores atípicos para ARROZ: {'CONSUMO X CAPITA': 0.0033003300330033004, 'GASTO X CAPITA': 0.0033003300330033004, 'PENETRACION (%)': 0.0, 'PRECIO MEDIO kg ó litros': 0.006600660066006601, 'VALOR (Miles Euros)': 0.0033003300330033004, 'VOLUMEN (Miles kg ó litros)': 0.0}\n",
      "\n",
      " Resultados de valores atípicos para TOTAL PASTAS: {'CONSUMO X CAPITA': 0.006600660066006601, 'GASTO X CAPITA': 0.0, 'PENETRACION (%)': 0.0, 'PRECIO MEDIO kg ó litros': 0.0, 'VALOR (Miles Euros)': 0.0, 'VOLUMEN (Miles kg ó litros)': 0.0}\n",
      "\n",
      " Resultados de valores atípicos para LEGUMBRES: {'CONSUMO X CAPITA': 0.0, 'GASTO X CAPITA': 0.0, 'PENETRACION (%)': 0.0, 'PRECIO MEDIO kg ó litros': 0.0, 'VALOR (Miles Euros)': 0.0033003300330033004, 'VOLUMEN (Miles kg ó litros)': 0.0}\n",
      "\n",
      " Resultados de valores atípicos para T.HORTALIZAS FRESCAS: {'CONSUMO X CAPITA': 0.0, 'GASTO X CAPITA': 0.0, 'PENETRACION (%)': 0.0, 'PRECIO MEDIO kg ó litros': 0.0, 'VALOR (Miles Euros)': 0.0, 'VOLUMEN (Miles kg ó litros)': 0.0}\n",
      "\n",
      " Resultados de valores atípicos para T.FRUTAS FRESCAS: {'CONSUMO X CAPITA': 0.0, 'GASTO X CAPITA': 0.0, 'PENETRACION (%)': 0.0, 'PRECIO MEDIO kg ó litros': 0.0, 'VALOR (Miles Euros)': 0.0, 'VOLUMEN (Miles kg ó litros)': 0.0}\n",
      "\n",
      " Resultados de valores atípicos para PLATOS PREPARADOS: {'CONSUMO X CAPITA': 0.0, 'GASTO X CAPITA': 0.0, 'PENETRACION (%)': 0.0, 'PRECIO MEDIO kg ó litros': 0.0, 'VALOR (Miles Euros)': 0.0, 'VOLUMEN (Miles kg ó litros)': 0.0}\n",
      "\n"
     ]
    }
   ],
   "source": [
    "# Procesar las series en dict_series_mensuales_ccaa\n",
    "for ccaa, dict_alimentos in dict_series_mensuales_ccaa.items():\n",
    "    print(f'{ccaa}------------------------------------------------------------------------------------>')\n",
    "    \n",
    "    for alimento, serie_alimento in dict_alimentos.items():      \n",
    "        # Calcular el porcentaje de valores atípicos para cada variable numérica\n",
    "        resultados_alimento = {}\n",
    "        for x in var_num:\n",
    "            if x in serie_alimento.columns:  # Verificar si la columna existe en el DataFrame\n",
    "                resultados_alimento[x] = atipicosAmissing(serie_alimento[x])[1] / len(serie_alimento)\n",
    "            else:\n",
    "                resultados_alimento[x] = None  # Si la columna no existe, almacenar None o algún valor por defecto\n",
    "        \n",
    "        # Imprimir los resultados o realizar alguna otra acción\n",
    "        print(f\" Resultados de valores atípicos para {alimento}: {resultados_alimento}\\n\")"
   ]
  },
  {
   "cell_type": "markdown",
   "id": "4a0758c9",
   "metadata": {
    "hidden": true
   },
   "source": [
    "Para el análisis del dataset a nivel nacional, observamos que el porcentaje de valores atípicos es muy bajo y afecta únicamente a las series de datos de hortalizas, legumbres, arroz, derivados lácteos, pesca, carne y huevos, es decir, a 7 de las 12 series de estudio. Dado el impacto limitado, podríamos considerar dos enfoques:\n",
    "\n",
    "1. Mantener los valores atípicos y evaluarlos en el contexto de cada serie para observar cómo afectan los resultados finales en el modelado.\n",
    "\n",
    "2. Transformar estos valores atípicos en valores faltantes (NaN) y aplicar un tratamiento adecuado para estos datos faltantes.\n",
    "\n",
    "Para tener las dos opciones, se aplica el tratamiento de los datos atípicos generando un nuevo dataframe de cada dataset."
   ]
  },
  {
   "cell_type": "code",
   "execution_count": 18,
   "id": "a855765d",
   "metadata": {
    "hidden": true
   },
   "outputs": [],
   "source": [
    "# Crear un DataFrame vacío para almacenar todas las series tratadas\n",
    "df_nacional_filtrado_2 = pd.DataFrame()\n",
    "\n",
    "# Aplicar el tratamiento de valores atípicos a nivel de cada serie específica a nivel nacional\n",
    "dict_series_mensuales_nacional_tratada = {}\n",
    "\n",
    "for alimento, serie in dict_series_mensuales_nacional.items():\n",
    "    serie_tratada = serie.copy()  # Copiar el DataFrame para no modificar el original\n",
    "    for x in var_num:\n",
    "        if x in serie.columns:\n",
    "            # Reemplazar valores atípicos con NaN en la serie específica\n",
    "            serie_tratada[x] = atipicosAmissing(serie[x])[0]\n",
    "    dict_series_mensuales_nacional_tratada[alimento] = serie_tratada\n",
    "    \n",
    "    # Concatenar cada DataFrame tratado en el DataFrame final\n",
    "    df_nacional_filtrado_2  = pd.concat([df_nacional_filtrado_2 , serie_tratada], ignore_index=True)"
   ]
  },
  {
   "cell_type": "code",
   "execution_count": 19,
   "id": "a17dad85",
   "metadata": {
    "hidden": true
   },
   "outputs": [],
   "source": [
    "# Crear un DataFrame vacío para almacenar todas las series tratadas\n",
    "df_ccaa_filtrado_2 = pd.DataFrame()\n",
    "\n",
    "# Procesar las series en dict_series_mensuales_ccaa\n",
    "for ccaa, dict_alimentos in dict_series_mensuales_ccaa.items():\n",
    "    for alimento, serie_alimento in dict_alimentos.items():\n",
    "        serie_tratada = serie_alimento.copy()  # Copiar el DataFrame para no modificar el original\n",
    "        \n",
    "        # Reemplazar valores atípicos con NaN en la serie específica\n",
    "        for x in var_num:\n",
    "            if x in serie_alimento.columns:\n",
    "                serie_tratada[x] = atipicosAmissing(serie_alimento[x])[0]\n",
    "        \n",
    "        # Añadir nuevamente una columna para la CCAA\n",
    "        serie_tratada['CCAA'] = ccaa\n",
    "        \n",
    "        # Concatenar cada DataFrame tratado en el DataFrame final\n",
    "        df_ccaa_filtrado_2 = pd.concat([df_ccaa_filtrado_2, serie_tratada], ignore_index=True)\n"
   ]
  },
  {
   "cell_type": "markdown",
   "id": "ff6fa7c7",
   "metadata": {
    "heading_collapsed": true,
    "hidden": true
   },
   "source": [
    "### DATOS FALTANTES O MISSING"
   ]
  },
  {
   "cell_type": "markdown",
   "id": "51a245fd",
   "metadata": {
    "hidden": true
   },
   "source": [
    "En el análisis previo, utilizando el método .info(), confirmamos que los dos DataFrames resultantes del filtrado no contenían valores nulos. Sin embargo, tras aplicar el análisis de valores atípicos y reemplazar estos valores atípicos con NaN, hemos introducido datos faltantes en los DataFrames."
   ]
  },
  {
   "cell_type": "code",
   "execution_count": 20,
   "id": "5693a859",
   "metadata": {
    "hidden": true
   },
   "outputs": [
    {
     "name": "stdout",
     "output_type": "stream",
     "text": [
      "\n",
      "DataFrame 1:\n",
      "Columnas con valores nulos:\n",
      "CONSUMO X CAPITA                1\n",
      "GASTO X CAPITA                  7\n",
      "PENETRACION (%)                 6\n",
      "PRECIO MEDIO kg ó litros        4\n",
      "VALOR (Miles Euros)             1\n",
      "VOLUMEN (Miles kg ó litros)    47\n",
      "dtype: int64\n",
      "\n",
      "DataFrame 2:\n",
      "Columnas con valores nulos:\n",
      "CONSUMO X CAPITA               47\n",
      "GASTO X CAPITA                 52\n",
      "PENETRACION (%)                74\n",
      "PRECIO MEDIO kg ó litros       79\n",
      "VALOR (Miles Euros)            37\n",
      "VOLUMEN (Miles kg ó litros)    35\n",
      "dtype: int64\n"
     ]
    }
   ],
   "source": [
    "df_lista=[df_nacional_filtrado_2,df_ccaa_filtrado_2]\n",
    "# Verificar valores nulos en cada DataFrame\n",
    "for i, df in enumerate(df_lista, start=1):\n",
    "    print(f\"\\nDataFrame {i}:\")\n",
    "    # Contar valores nulos por columna\n",
    "    nulos_por_columna = df.isnull().sum()\n",
    "    \n",
    "    # Filtrar columnas con valores nulos\n",
    "    columnas_con_nulos = nulos_por_columna[nulos_por_columna > 0]\n",
    "    \n",
    "    if not columnas_con_nulos.empty:\n",
    "        # Mostrar columnas con valores nulos\n",
    "        print(\"Columnas con valores nulos:\")\n",
    "        print(columnas_con_nulos)\n",
    "    else:\n",
    "        # Indicar que no hay valores nulos\n",
    "        print(\"No hay valores nulos en este DataFrame.\")"
   ]
  },
  {
   "cell_type": "markdown",
   "id": "80172e7c",
   "metadata": {
    "hidden": true
   },
   "source": [
    "Al revisar los resultados de la proporción de valores perdidos por variable, observamos que ninguna variable tiene una proporción de valores perdidos superior al 50%. Como mencionamos anteriormente, el porcentaje es mínimo. "
   ]
  },
  {
   "cell_type": "code",
   "execution_count": 21,
   "id": "33420313",
   "metadata": {
    "hidden": true
   },
   "outputs": [
    {
     "data": {
      "text/plain": [
       "Alimentos                      0.000000\n",
       "CONSUMO X CAPITA               0.000275\n",
       "GASTO X CAPITA                 0.001925\n",
       "PENETRACION (%)                0.001650\n",
       "PRECIO MEDIO kg ó litros       0.001100\n",
       "VALOR (Miles Euros)            0.000275\n",
       "VOLUMEN (Miles kg ó litros)    0.012926\n",
       "Año                            0.000000\n",
       "Mes                            0.000000\n",
       "Fecha                          0.000000\n",
       "dtype: float64"
      ]
     },
     "execution_count": 21,
     "metadata": {},
     "output_type": "execute_result"
    }
   ],
   "source": [
    "# Muestra proporción de valores perdidos por cada VARIABLE (guardo la información)\n",
    "prop_missingsVars = df_nacional_filtrado_2.isna().sum()/len(df_nacional_filtrado_2)\n",
    "prop_missingsVars"
   ]
  },
  {
   "cell_type": "code",
   "execution_count": 22,
   "id": "ac2701ef",
   "metadata": {
    "hidden": true
   },
   "outputs": [
    {
     "data": {
      "text/plain": [
       "Alimentos                      0.000000\n",
       "CONSUMO X CAPITA               0.000764\n",
       "GASTO X CAPITA                 0.000845\n",
       "PENETRACION (%)                0.001203\n",
       "PRECIO MEDIO kg ó litros       0.001284\n",
       "VALOR (Miles Euros)            0.000601\n",
       "VOLUMEN (Miles kg ó litros)    0.000569\n",
       "Mes                            0.000000\n",
       "Año                            0.000000\n",
       "CCAA                           0.000000\n",
       "Fecha                          0.000000\n",
       "dtype: float64"
      ]
     },
     "execution_count": 22,
     "metadata": {},
     "output_type": "execute_result"
    }
   ],
   "source": [
    "# Muestra proporción de valores perdidos por cada VARIABLE (guardo la información)\n",
    "prop_missingsVars = df_ccaa_filtrado_2.isna().sum()/len(df_ccaa_filtrado_2)\n",
    "prop_missingsVars"
   ]
  },
  {
   "cell_type": "markdown",
   "id": "072e1305",
   "metadata": {
    "hidden": true
   },
   "source": [
    "Al analizar series temporales, es crucial tener en cuenta que los valores atípicos pueden revelar patrones importantes o anomalías relevantes. Estos valores atípicos podrían ser indicativos de estacionalidades específicas, cambios bruscos en el comportamiento de la serie, o influencias de factores externos que son significativos para la interpretación de los datos.\n",
    "\n",
    "En nuestro caso, hemos optado por mantener los datos depurados pero sin tratar los datos atípicos. Esta decisión se ha tomado para preservar la integridad de las series temporales originales y para evitar la introducción de sesgos que podrían resultar de la transformación de estos valores.\n",
    "\n",
    "En el análisis exploratorio posterior, se generaran representaciones gráficas de las series temporales. Estas visualizaciones permitirán observar desviaciones importantes y patrones que podrían no ser evidentes en el análisis de datos numéricos. Los gráficos pueden ser una herramienta valiosa para identificar y contextualizar los valores atípicos, facilitando una mejor comprensión del comportamiento general de la serie.\n",
    "\n",
    "Para futuras investigaciones, se recomienda llevar a cabo un análisis más detallado de cada anomalía identificada. Este análisis puede ayudar a entender el origen de los valores atípicos y a determinar si son el resultado de eventos únicos, errores de medición, o cambios estructurales en la serie temporal."
   ]
  },
  {
   "cell_type": "markdown",
   "id": "08409540-a7cd-4519-a958-c8ddaba25ec7",
   "metadata": {
    "heading_collapsed": true,
    "hidden": true
   },
   "source": [
    "### GUARDAR DEPURADOS"
   ]
  },
  {
   "cell_type": "markdown",
   "id": "9b6cfffe",
   "metadata": {
    "hidden": true
   },
   "source": [
    "Los datos se han guardado en dos formatos: .csv y .pickle. El formato .pickle se utilizará en los próximos notebooks debido a su eficiencia para manejar objetos en Python, mientras que el .csv se ofrece como una opción para trabajar en entornos como Excel o aplicaciones de visualización de datos como Tableau, Power BI y Qlik. Esto asegura que los datos sean accesibles en diversas plataformas y aplicaciones."
   ]
  },
  {
   "cell_type": "code",
   "execution_count": 23,
   "id": "44061b77-deec-41eb-8568-49b9b600c48b",
   "metadata": {
    "hidden": true
   },
   "outputs": [],
   "source": [
    "# Guarda los DataFrames en archivos pickle en el directorio de salida y csv. El csv lo aplicaremos en Tableau.\n",
    "datosNacional_pk = os.path.join(directorioSalida, 'df_nacional_filtrado.pkl')\n",
    "datosCcaa_pk= os.path.join(directorioSalida, 'df_ccaa_filtrado.pkl')\n",
    "\n",
    "df_nacional_filtrado.to_pickle(datosNacional_pk)\n",
    "df_ccaa_filtrado.to_pickle(datosCcaa_pk)\n",
    "\n",
    "datosNacional_csv = os.path.join(directorioSalida, 'df_nacional_filtrado.csv')\n",
    "datosCcaa_csv = os.path.join(directorioSalida, 'df_ccaa_filtrado.csv')\n",
    "\n",
    "# Guarda los DataFrames en archivos CSV\n",
    "df_nacional_filtrado.to_csv(datosNacional_csv, index=False)\n",
    "df_ccaa_filtrado.to_csv(datosCcaa_csv, index=False)"
   ]
  }
 ],
 "metadata": {
  "kernelspec": {
   "display_name": "Python 3 (ipykernel)",
   "language": "python",
   "name": "python3"
  },
  "language_info": {
   "codemirror_mode": {
    "name": "ipython",
    "version": 3
   },
   "file_extension": ".py",
   "mimetype": "text/x-python",
   "name": "python",
   "nbconvert_exporter": "python",
   "pygments_lexer": "ipython3",
   "version": "3.10.13"
  }
 },
 "nbformat": 4,
 "nbformat_minor": 5
}
