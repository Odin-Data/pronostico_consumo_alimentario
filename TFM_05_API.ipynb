{
 "cells": [
  {
   "cell_type": "markdown",
   "id": "197e248d",
   "metadata": {},
   "source": [
    "# IMPORTAR LIBRERIAS"
   ]
  },
  {
   "cell_type": "code",
   "execution_count": 1,
   "id": "8c3316e8",
   "metadata": {},
   "outputs": [
    {
     "name": "stderr",
     "output_type": "stream",
     "text": [
      "C:\\Users\\OT\\AppData\\Local\\Temp\\ipykernel_10648\\3960648340.py:2: DeprecationWarning: \n",
      "Pyarrow will become a required dependency of pandas in the next major release of pandas (pandas 3.0),\n",
      "(to allow more performant data types, such as the Arrow string type, and better interoperability with other libraries)\n",
      "but was not found to be installed on your system.\n",
      "If this would cause problems for you,\n",
      "please provide us feedback at https://github.com/pandas-dev/pandas/issues/54466\n",
      "        \n",
      "  import pandas as pd\n"
     ]
    }
   ],
   "source": [
    "import requests\n",
    "import pandas as pd\n",
    "import json"
   ]
  },
  {
   "cell_type": "markdown",
   "id": "de7effc4",
   "metadata": {},
   "source": [
    "# PRUEBAS API"
   ]
  },
  {
   "cell_type": "markdown",
   "id": "31a29564",
   "metadata": {},
   "source": [
    "Para poder lanzar la API en local realizamos lo siguiente:\n",
    "- Creamos nuestro archivo de la API .py, en nuestro caso: app.py.\n",
    "- Navegar al directorio donde se encuentra app.py y ejecutar el archivo con python.\n",
    "- Una vez que la API esté corriendo, enviar datos a ella con el siguiente bloque para probar su funcionamiento."
   ]
  },
  {
   "cell_type": "markdown",
   "id": "6ca8c7fb",
   "metadata": {},
   "source": [
    "Como evalua la API con un ejemplo: \n",
    "\n",
    "Actualmente tenemos cada serie de alimento de 1999 hasta 2023, y los modelos entrados hasta todo el conjunto de datos y con el pronóstico de 2024. Cuando finalizemos el año 2024, meteremos los datos de 2024, y evaluaremos la métrica RMSE con este 2024 como test para ver si mantiene el rango RMSE del pronóstico del año 2023, con una diferencia menor al 5%, si no lanzará un mensaje para revaluar el modelo. \n",
    "Si esta por debajo del 5%, reentrena el modelo con todo el conjunto y lanza el pronóstico de 2025. "
   ]
  },
  {
   "cell_type": "markdown",
   "id": "0d8f1267",
   "metadata": {},
   "source": [
    "## OBTENER FECHAS:"
   ]
  },
  {
   "cell_type": "markdown",
   "id": "cd71b09f",
   "metadata": {},
   "source": [
    "Obtener fechas traspasando el alimento de la serie que queremos introducir y pronosticar. "
   ]
  },
  {
   "cell_type": "code",
   "execution_count": 2,
   "id": "b4e98fda",
   "metadata": {},
   "outputs": [
    {
     "name": "stdout",
     "output_type": "stream",
     "text": [
      "Respuesta de la API: {'fechas': ['2024-01-01', '2024-02-01', '2024-03-01', '2024-04-01', '2024-05-01', '2024-06-01', '2024-07-01', '2024-08-01', '2024-09-01', '2024-10-01', '2024-11-01', '2024-12-01']}\n"
     ]
    }
   ],
   "source": [
    "# URL del endpoint de tu API\n",
    "url = 'http://127.0.0.1:5000/obtener_fechas'\n",
    "\n",
    "# Parámetro de alimento que quieres probar\n",
    "alimento = 'T.FRUTAS FRESCAS'\n",
    "\n",
    "# Hacer la solicitud GET a la API\n",
    "response = requests.get(url, params={'alimento': alimento})\n",
    "\n",
    "# Verificar el estado de la respuesta\n",
    "if response.status_code == 200:\n",
    "    # Si la respuesta es exitosa (código 200), imprimir el contenido\n",
    "    data = response.json()\n",
    "    print(\"Respuesta de la API:\", data)\n",
    "else:\n",
    "    # Si hay un error, imprimir el código de estado y el mensaje de error\n",
    "    print(\"Error:\", response.status_code)\n",
    "    print(\"Mensaje de error:\", response.text)"
   ]
  },
  {
   "cell_type": "markdown",
   "id": "70c8f0da",
   "metadata": {},
   "source": [
    "## PRONOSTICAR CONSUMO PER CÁPITA NUEVO AÑO"
   ]
  },
  {
   "cell_type": "markdown",
   "id": "2569533e",
   "metadata": {},
   "source": [
    "Aquí debemos enviarle  el alimento seleccionado de la serie a predecir con las fechas obtenidas anteriormente. Además enviar los nuevos datos del año finalizado: consumo, gasto y precio medio, y las variables exógenas del año nuevo a pronosticar."
   ]
  },
  {
   "cell_type": "code",
   "execution_count": 3,
   "id": "d4568546",
   "metadata": {},
   "outputs": [
    {
     "name": "stdout",
     "output_type": "stream",
     "text": [
      "{'alimento': 'T.FRUTAS FRESCAS', 'fecha': ['2025-01-01', '2025-02-01', '2025-03-01', '2025-04-01', '2025-05-01', '2025-06-01', '2025-07-01', '2025-08-01', '2025-09-01', '2025-10-01', '2025-11-01', '2025-12-01'], 'message': 'Datos recibidos, serie actualizada, y pronóstico calculado correctamente', 'prediccion': [11.362244999999993, 11.265530999999994, 12.669823999999995, 11.973227999999994, 13.676439999999992, 15.54155199999999, 14.998619999999994, 13.420510999999992, 14.188104999999995, 13.734664999999993, 11.960395999999992, 11.252988999999994], 'rmse_new': 1e-08, 'rmse_old': 2.5096768003166226e-06, 'status': 'success'}\n"
     ]
    }
   ],
   "source": [
    "# Crear datos de prueba\n",
    "datos = {\n",
    "    'fechas':['2024-01-01', '2024-02-01', '2024-03-01', '2024-04-01',\n",
    "               '2024-05-01', '2024-06-01', '2024-07-01', '2024-08-01',\n",
    "               '2024-09-01', '2024-10-01', '2024-11-01', '2024-12-01'],\n",
    "    'alimento': 'T.FRUTAS FRESCAS',\n",
    "    'consumo': [\n",
    "        1.933141, 2.042574, 2.073673, 2.118096,\n",
    "        2.158674, 2.053273, 2.122503, 1.831925,\n",
    "        1.884250, 2.144403, 2.134640, 2.108376\n",
    "    ],\n",
    "    'gasto':  [\n",
    "        11.944193, 11.459124, 13.434974, 12.603300,\n",
    "        14.900921, 15.251681, 15.097949, 13.834472,\n",
    "        14.234611, 13.046981, 12.188683, 11.635794\n",
    "    ],\n",
    "    'precio': [\n",
    "        1.933141, 2.042574, 2.073673, 2.118096,\n",
    "        2.158674, 2.053273, 2.122503, 1.831925,\n",
    "        1.884250, 2.144403, 2.134640, 2.108376\n",
    "    ],\n",
    "    'gasto_exogenas': [\n",
    "        11.362245, 11.265531, 12.669824, 11.973228,\n",
    "        13.676440, 15.541552, 14.998620, 13.420511,\n",
    "        14.188105, 13.734665, 11.960396, 11.252989\n",
    "    ],\n",
    "    'precio_exogenas': [\n",
    "        1.779500, 1.857111, 1.918180, 1.914666,\n",
    "        2.016780, 2.096312, 1.814827, 1.799019,\n",
    "        2.000987, 2.119147, 2.021288, 1.986037\n",
    "    ]\n",
    "}\n",
    "\n",
    "# URL de la API Flask\n",
    "url = 'http://127.0.0.1:5000/enviar'\n",
    "\n",
    "# Enviar la solicitud POST\n",
    "response = requests.post(url, json=datos)\n",
    "\n",
    "# Imprimir la respuesta\n",
    "print(response.json())"
   ]
  }
 ],
 "metadata": {
  "kernelspec": {
   "display_name": "Python 3 (ipykernel)",
   "language": "python",
   "name": "python3"
  },
  "language_info": {
   "codemirror_mode": {
    "name": "ipython",
    "version": 3
   },
   "file_extension": ".py",
   "mimetype": "text/x-python",
   "name": "python",
   "nbconvert_exporter": "python",
   "pygments_lexer": "ipython3",
   "version": "3.10.13"
  }
 },
 "nbformat": 4,
 "nbformat_minor": 5
}
