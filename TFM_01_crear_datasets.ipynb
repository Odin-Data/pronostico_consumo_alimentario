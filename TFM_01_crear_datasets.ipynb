{
 "cells": [
  {
   "cell_type": "markdown",
   "id": "cca4881d",
   "metadata": {
    "heading_collapsed": true
   },
   "source": [
    "# IMPORTAR LIBRERIAS"
   ]
  },
  {
   "cell_type": "code",
   "execution_count": 1,
   "id": "e2afce25",
   "metadata": {
    "hidden": true
   },
   "outputs": [
    {
     "name": "stderr",
     "output_type": "stream",
     "text": [
      "C:\\Users\\OT\\AppData\\Local\\Temp\\ipykernel_15812\\589167050.py:1: DeprecationWarning: \n",
      "Pyarrow will become a required dependency of pandas in the next major release of pandas (pandas 3.0),\n",
      "(to allow more performant data types, such as the Arrow string type, and better interoperability with other libraries)\n",
      "but was not found to be installed on your system.\n",
      "If this would cause problems for you,\n",
      "please provide us feedback at https://github.com/pandas-dev/pandas/issues/54466\n",
      "        \n",
      "  import pandas as pd\n"
     ]
    }
   ],
   "source": [
    "import pandas as pd\n",
    "import os\n",
    "import re\n",
    "\n",
    "import warnings\n",
    "warnings.filterwarnings('ignore')"
   ]
  },
  {
   "cell_type": "markdown",
   "id": "0f5ada7d",
   "metadata": {
    "heading_collapsed": true
   },
   "source": [
    "# ORIGEN DATASETS "
   ]
  },
  {
   "cell_type": "markdown",
   "id": "e8ba44c4",
   "metadata": {
    "hidden": true
   },
   "source": [
    "Los datos utilizados en este estudio provienen del Panel de Consumo Alimentario en Hogares, gestionado por el Ministerio de Agricultura, Pesca y Alimentación y elaborado con la información proporcionada por TAYLOR NELSON SOFRES S.A.U. Este panel ofrece una visión detallada de la demanda de alimentos en los hogares españoles, abarcando información sobre las compras realizadas, su costo y las características de los hogares. El panel cubre todos los hogares de la Península, Baleares y Canarias, excluyendo Ceuta y Melilla.\n",
    "\n",
    "La fuente de datos incluye registros desde 1990 hasta 2024, tanto anuales como mensuales. En este análisis, se ha optado por examinar los datos del período de 1999 a 2024 a nivel mensual. Los datasets están disponibles en formato .xlsx y/o se presentan anualmente y con distintas hojas por mes. \n",
    "\n",
    "Dado que los archivos originales pueden ser grandes y pesados, se han implementado las siguientes optimizaciones:\n",
    "\n",
    "- Unificación de datos mensuales y anuales: Se ha consolidado la información mensual y anual en un único archivo. Esta estructura facilita la gestión de la información  y permite un acceso más ágil a los datos.\n",
    "\n",
    "- Separación de datos nacionales y por comunidad autónoma.\n",
    "\n",
    "- Eliminación de la hoja PORTADA: Se ha eliminado la hoja PORTADA presente en todos los documentos .xlsx, ya que no aporta valor adicional.\n",
    "\n",
    "- Conversión a formato .csv: Se ha convertido los archivos .xlsx a .csv para reducir el espacio de almacenamiento. Este formato es más ligero y permite una lectura y escritura más rápidas, optimizando el manejo de los datos para futuros procesos.\n",
    "\n",
    "En este estudio se utilizarán exclusivamente los datos a nivel nacional. No obstante, dado que los datos nacionales están integrados en el mismo archivo que los correspondientes a las comunidades autónomas, se generará un segundo conjunto de datos segmentado por comunidad autónoma. Este segundo dataset quedará disponible para análisis futuros o con fines teóricos."
   ]
  },
  {
   "cell_type": "markdown",
   "id": "3a562da0",
   "metadata": {
    "heading_collapsed": true
   },
   "source": [
    "# FUNCIONES TRANSFORMACIÓN "
   ]
  },
  {
   "cell_type": "markdown",
   "id": "ea58f368",
   "metadata": {
    "hidden": true
   },
   "source": [
    "Se describen las funciones encargadas de procesar los archivos .xlsx provenientes de la fuente original. Estas funciones se dividen en dos grupos: aquellas que procesan los datos a nivel nacional y aquellas que lo hacen a nivel de comunidad autónoma.\n",
    "En ambos casos, se desarrollan dos funciones principales: una para procesar un solo archivo y otra para procesar todos los archivos de manera conjunta. Esta separación permite reutilizar las funciones procesar_archivo y procesar_archivo_ccaa con archivos futuros, facilitando tanto la preparación de nuevos datasets como la ampliación del conjunto de datos actual"
   ]
  },
  {
   "cell_type": "markdown",
   "id": "e0c902ed",
   "metadata": {
    "hidden": true
   },
   "source": [
    "## NACIONAL"
   ]
  },
  {
   "cell_type": "code",
   "execution_count": 2,
   "id": "28ab81bc",
   "metadata": {
    "hidden": true
   },
   "outputs": [],
   "source": [
    "def procesar_archivo(file_path, anno):\n",
    "    \"\"\"\n",
    "    Procesa un archivo Excel para extraer datos de todas las hojas, exceptuando la hoja 'Portada'.\n",
    "    Los datos se filtran, se renombran las columnas y se agregan las columnas de Año y Mes.\n",
    "\n",
    "    Parámetros:\n",
    "    - file_path (str): Ruta del archivo Excel a procesar. \n",
    "    - anno (int): Año asociado a los datos en el archivo.\n",
    "\n",
    "    Retorna:\n",
    "    - pd.DataFrame: Un DataFrame con los datos filtrados, con las columnas renombradas y las nuevas columnas 'Año' y 'Mes' \n",
    "    agregadas.\n",
    "    \"\"\"\n",
    "    datos_completos = pd.DataFrame()\n",
    "    \n",
    "    with pd.ExcelFile(file_path) as archivo:\n",
    "        # Obtener nombres de hojas, excluyendo 'Portada'\n",
    "        hojas = [hoja for hoja in archivo.sheet_names if hoja.lower() != 'portada']\n",
    "        \n",
    "        for mes in hojas:\n",
    "            # Leer datos de la hoja del mes\n",
    "            df = pd.read_excel(file_path, sheet_name=mes)\n",
    "    \n",
    "            # Filtrar las filas y columnas necesarias\n",
    "            df_filtrado = df.iloc[2:, :7]\n",
    "            \n",
    "            # Renombrar las columnas del DataFrame\n",
    "            df_filtrado.columns = ['Alimentos', 'CONSUMO X CAPITA', 'GASTO X CAPITA', 'PENETRACION (%)', \n",
    "                                   'PRECIO MEDIO kg ó litros', 'VALOR (Miles Euros)', 'VOLUMEN (Miles kg ó litros)']\n",
    "            \n",
    "            # Agregar columnas de 'Año' y 'Mes'\n",
    "            df_filtrado['Año'] = anno\n",
    "            df_filtrado['Mes'] = mes\n",
    "            \n",
    "            # Concatenar los datos de esta hoja al DataFrame completo\n",
    "            datos_completos = pd.concat([datos_completos, df_filtrado], ignore_index=True)\n",
    "    \n",
    "    return datos_completos\n",
    "\n",
    "def procesar_todos_los_archivos(directorio_entrada, directorio_salida):\n",
    "    \"\"\"\n",
    "    Procesa todos los archivos Excel en el directorio de entrada para los años del 2024 al 1999.\n",
    "    Combina los datos de todos los archivos en un solo DataFrame y lo guarda en un nuevo archivo .csv en el directorio \n",
    "    de salida.\n",
    "\n",
    "    Parámetros:\n",
    "    - directorio_entrada (str): Ruta del directorio que contiene los archivos Excel a procesar.\n",
    "    - directorio_salida (str): Ruta del directorio donde se guardarán los archivos combinados.\n",
    "\n",
    "    Retorna:\n",
    "    - None: Guarda el DataFrame combinado en archivos CSV en el directorio de salida.\n",
    "    \"\"\"\n",
    "    dataframes_completos = pd.DataFrame()\n",
    "    \n",
    "    for anno in range(2024, 1998, -1):\n",
    "        file_path = os.path.join(directorio_entrada, f'{anno}-CCAA.xlsx')\n",
    "        \n",
    "        if os.path.isfile(file_path):\n",
    "            print(f\"Procesando archivo: {file_path}\")\n",
    "            datos = procesar_archivo(file_path, anno)\n",
    "            dataframes_completos = pd.concat([dataframes_completos, datos], ignore_index=True)\n",
    "        else:\n",
    "            print(f\"Archivo no encontrado: {file_path}\")\n",
    "    \n",
    "    # Guardar en formato CSV\n",
    "    csv_path = os.path.join(directorio_salida, 'nacional_combinados.csv')\n",
    "    dataframes_completos.to_csv(csv_path, index=False)\n",
    "    print(f\"Datos combinados guardados en {csv_path}\")"
   ]
  },
  {
   "cell_type": "markdown",
   "id": "f2328b82",
   "metadata": {
    "hidden": true
   },
   "source": [
    "## CCAA"
   ]
  },
  {
   "cell_type": "code",
   "execution_count": 3,
   "id": "4c9d7446",
   "metadata": {
    "hidden": true
   },
   "outputs": [],
   "source": [
    "def procesar_archivo_ccaa(file_path):\n",
    "    \"\"\"\n",
    "    Procesa el archivo Excel para extraer y combinar los datos en un DataFrame por comunidad autónoma (CCAA).\n",
    "    \"\"\"\n",
    "    # Función para obtener el año del archivo a partir del nombre\n",
    "    def obtener_anno_del_archivo(file_path):\n",
    "        return int(re.search(r'\\d{4}', file_path).group())\n",
    "\n",
    "    # Función para leer las hojas del archivo Excel, excluyendo la primera hoja (Portada)\n",
    "    def leer_hojas(file_path):\n",
    "        with pd.ExcelFile(file_path) as archivo:\n",
    "            return archivo.sheet_names[1:]  # Excluye la primera hoja\n",
    "\n",
    "    # Función para obtener las comunidades autónomas a partir de la hoja 'enero' o 'Enero'\n",
    "    def obtener_ccaa(file_path):\n",
    "        df = None\n",
    "        try:\n",
    "            df = pd.read_excel(file_path, sheet_name='enero')\n",
    "        except ValueError:\n",
    "            print(f\"Hoja 'enero' no encontrada en {file_path}. Intentando con 'Enero'.\")\n",
    "            try:\n",
    "                df = pd.read_excel(file_path, sheet_name='Enero')\n",
    "            except ValueError:\n",
    "                print(f\"Hoja 'Enero' no encontrada en {file_path}.\")\n",
    "        \n",
    "        if df is not None:\n",
    "            fila_3 = df.iloc[0]\n",
    "            return fila_3[2:].dropna().tolist()  # Excluye la primera columna\n",
    "        else:\n",
    "            print(f\"CCAA no encontradas en ninguna de las hojas esperadas para el archivo {file_path}.\")\n",
    "            return []\n",
    "\n",
    "    # Función para procesar el DataFrame y estandarizar las columnas\n",
    "    def procesar_dataframe(df):\n",
    "        df_new = df.iloc[1:]  # Eliminar la primera fila\n",
    "        df_new.columns = df_new.iloc[0]  # Asignar nombres de columna\n",
    "        df_new = df_new.iloc[1:]  # Eliminar la fila de nombres de columna\n",
    "        df_new.reset_index(drop=True, inplace=True)  # Restablecer índices\n",
    "        return df_new\n",
    "\n",
    "    # Función para crear un DataFrame seleccionado con columnas desplazadas y agregar columnas adicionales\n",
    "    def crear_dataframe_seleccionado(df_new, inicio_columna, fin_columna, mes, anno, comunidad):\n",
    "        df_seleccionado = df_new.iloc[:, inicio_columna:fin_columna].copy()  # Seleccionar columnas desplazadas\n",
    "        df_seleccionado['Mes'] = mes\n",
    "        df_seleccionado['Año'] = anno\n",
    "        df_seleccionado['CCAA'] = comunidad\n",
    "        df_seleccionado['Alimentos'] = df_new.iloc[:, 0].reset_index(drop=True)  # Agregar columna 'Alimentos'\n",
    "        df_seleccionado = df_seleccionado[['Alimentos'] + [col for col in df_seleccionado.columns if col != 'Alimentos']]\n",
    "        return df_seleccionado\n",
    "\n",
    "    # Iniciar el procesamiento\n",
    "    anno = obtener_anno_del_archivo(file_path)  # Obtener el año del archivo\n",
    "    hojas = leer_hojas(file_path)  # Leer las hojas del archivo Excel\n",
    "    ccaa = obtener_ccaa(file_path)  # Obtener las comunidades autónomas\n",
    "\n",
    "    desplazamiento = 6  # Número de columnas por CCAA\n",
    "    dataframes_ccaa = {comunidad: pd.DataFrame() for comunidad in ccaa}  # Crear diccionario para cada CCAA\n",
    "\n",
    "    # Procesar cada mes (hoja)\n",
    "    for mes in hojas:\n",
    "        df = pd.read_excel(file_path, sheet_name=mes)  # Leer la hoja correspondiente al mes\n",
    "        df_new = procesar_dataframe(df)  # Procesar el DataFrame para estandarizar las columnas\n",
    "\n",
    "        # Procesar los datos para cada comunidad autónoma\n",
    "        for i, comunidad in enumerate(ccaa):\n",
    "            inicio_columna = 7 + i * desplazamiento\n",
    "            fin_columna = inicio_columna + 6\n",
    "            df_seleccionado = crear_dataframe_seleccionado(df_new, inicio_columna, fin_columna, mes, anno, comunidad)\n",
    "            dataframes_ccaa[comunidad] = pd.concat([dataframes_ccaa[comunidad], df_seleccionado], ignore_index=True)\n",
    "    \n",
    "    return dataframes_ccaa\n",
    "\n",
    "def procesar_todos_los_archivos_ccaa(directorio_entrada, directorio_salida):\n",
    "    \"\"\"\n",
    "    Procesa todos los archivos Excel en el directorio de entrada y guarda los resultados en .csv en el directorio de salida.\n",
    "    \"\"\"\n",
    "    dataframes_ccaa_completos = pd.DataFrame()  # DataFrame combinado\n",
    "    \n",
    "    for anno in range(2024, 1998, -1):\n",
    "        file_path = os.path.join(directorio_entrada, f'{anno}-CCAA.xlsx')\n",
    "        \n",
    "        if os.path.isfile(file_path):\n",
    "            print(f\"Procesando archivo: {file_path}\")\n",
    "            dataframes_ccaa = procesar_archivo_ccaa(file_path)\n",
    "            \n",
    "            for df in dataframes_ccaa.values():\n",
    "                dataframes_ccaa_completos = pd.concat([dataframes_ccaa_completos, df], ignore_index=True)\n",
    "        else:\n",
    "            print(f\"Archivo no encontrado: {file_path}\")\n",
    "    \n",
    "    # Guardar todos los datos combinados en un solo archivo CSV\n",
    "    csv_path = os.path.join(directorio_salida, 'datos_combinados_CCAA.csv')\n",
    "    dataframes_ccaa_completos.to_csv(csv_path, index=False)\n",
    "    print(f\"Datos combinados guardados en {csv_path}\")"
   ]
  },
  {
   "cell_type": "markdown",
   "id": "53a9f518",
   "metadata": {
    "heading_collapsed": true
   },
   "source": [
    "# CREAR DATASET"
   ]
  },
  {
   "cell_type": "code",
   "execution_count": 4,
   "id": "a396c3a0",
   "metadata": {
    "hidden": true
   },
   "outputs": [],
   "source": [
    "# Definir los directorios de entrada y salida\n",
    "directorioEntrada = './Dataset/Dataset_origen'\n",
    "directorioSalida = './Dataset/Dataset_final'"
   ]
  },
  {
   "cell_type": "code",
   "execution_count": 5,
   "id": "4a994c3e",
   "metadata": {
    "hidden": true
   },
   "outputs": [
    {
     "name": "stdout",
     "output_type": "stream",
     "text": [
      "Procesando archivo: ./Dataset/Dataset_origen\\2024-CCAA.xlsx\n",
      "Procesando archivo: ./Dataset/Dataset_origen\\2023-CCAA.xlsx\n",
      "Procesando archivo: ./Dataset/Dataset_origen\\2022-CCAA.xlsx\n",
      "Procesando archivo: ./Dataset/Dataset_origen\\2021-CCAA.xlsx\n",
      "Procesando archivo: ./Dataset/Dataset_origen\\2020-CCAA.xlsx\n",
      "Procesando archivo: ./Dataset/Dataset_origen\\2019-CCAA.xlsx\n",
      "Procesando archivo: ./Dataset/Dataset_origen\\2018-CCAA.xlsx\n",
      "Procesando archivo: ./Dataset/Dataset_origen\\2017-CCAA.xlsx\n",
      "Procesando archivo: ./Dataset/Dataset_origen\\2016-CCAA.xlsx\n",
      "Procesando archivo: ./Dataset/Dataset_origen\\2015-CCAA.xlsx\n",
      "Procesando archivo: ./Dataset/Dataset_origen\\2014-CCAA.xlsx\n",
      "Procesando archivo: ./Dataset/Dataset_origen\\2013-CCAA.xlsx\n",
      "Procesando archivo: ./Dataset/Dataset_origen\\2012-CCAA.xlsx\n",
      "Procesando archivo: ./Dataset/Dataset_origen\\2011-CCAA.xlsx\n",
      "Procesando archivo: ./Dataset/Dataset_origen\\2010-CCAA.xlsx\n",
      "Procesando archivo: ./Dataset/Dataset_origen\\2009-CCAA.xlsx\n",
      "Procesando archivo: ./Dataset/Dataset_origen\\2008-CCAA.xlsx\n",
      "Procesando archivo: ./Dataset/Dataset_origen\\2007-CCAA.xlsx\n",
      "Procesando archivo: ./Dataset/Dataset_origen\\2006-CCAA.xlsx\n",
      "Procesando archivo: ./Dataset/Dataset_origen\\2005-CCAA.xlsx\n",
      "Procesando archivo: ./Dataset/Dataset_origen\\2004-CCAA.xlsx\n",
      "Procesando archivo: ./Dataset/Dataset_origen\\2003-CCAA.xlsx\n",
      "Procesando archivo: ./Dataset/Dataset_origen\\2002-CCAA.xlsx\n",
      "Procesando archivo: ./Dataset/Dataset_origen\\2001-CCAA.xlsx\n",
      "Procesando archivo: ./Dataset/Dataset_origen\\2000-CCAA.xlsx\n",
      "Procesando archivo: ./Dataset/Dataset_origen\\1999-CCAA.xlsx\n",
      "Datos combinados guardados en ./Dataset/Dataset_final\\nacional_combinados.csv\n"
     ]
    }
   ],
   "source": [
    "# Llamamos a la función pertinente para procesar los archivos y transformar en un dataset de datos a nivel nacional\n",
    "procesar_todos_los_archivos(directorioEntrada, directorioSalida)"
   ]
  },
  {
   "cell_type": "code",
   "execution_count": 6,
   "id": "3a35de6e",
   "metadata": {
    "hidden": true
   },
   "outputs": [
    {
     "name": "stdout",
     "output_type": "stream",
     "text": [
      "Procesando archivo: ./Dataset/Dataset_origen\\2024-CCAA.xlsx\n",
      "Procesando archivo: ./Dataset/Dataset_origen\\2023-CCAA.xlsx\n",
      "Procesando archivo: ./Dataset/Dataset_origen\\2022-CCAA.xlsx\n",
      "Procesando archivo: ./Dataset/Dataset_origen\\2021-CCAA.xlsx\n",
      "Procesando archivo: ./Dataset/Dataset_origen\\2020-CCAA.xlsx\n",
      "Procesando archivo: ./Dataset/Dataset_origen\\2019-CCAA.xlsx\n",
      "Hoja 'enero' no encontrada en ./Dataset/Dataset_origen\\2019-CCAA.xlsx. Intentando con 'Enero'.\n",
      "Procesando archivo: ./Dataset/Dataset_origen\\2018-CCAA.xlsx\n",
      "Hoja 'enero' no encontrada en ./Dataset/Dataset_origen\\2018-CCAA.xlsx. Intentando con 'Enero'.\n",
      "Procesando archivo: ./Dataset/Dataset_origen\\2017-CCAA.xlsx\n",
      "Hoja 'enero' no encontrada en ./Dataset/Dataset_origen\\2017-CCAA.xlsx. Intentando con 'Enero'.\n",
      "Procesando archivo: ./Dataset/Dataset_origen\\2016-CCAA.xlsx\n",
      "Hoja 'enero' no encontrada en ./Dataset/Dataset_origen\\2016-CCAA.xlsx. Intentando con 'Enero'.\n",
      "Procesando archivo: ./Dataset/Dataset_origen\\2015-CCAA.xlsx\n",
      "Hoja 'enero' no encontrada en ./Dataset/Dataset_origen\\2015-CCAA.xlsx. Intentando con 'Enero'.\n",
      "Procesando archivo: ./Dataset/Dataset_origen\\2014-CCAA.xlsx\n",
      "Hoja 'enero' no encontrada en ./Dataset/Dataset_origen\\2014-CCAA.xlsx. Intentando con 'Enero'.\n",
      "Procesando archivo: ./Dataset/Dataset_origen\\2013-CCAA.xlsx\n",
      "Hoja 'enero' no encontrada en ./Dataset/Dataset_origen\\2013-CCAA.xlsx. Intentando con 'Enero'.\n",
      "Procesando archivo: ./Dataset/Dataset_origen\\2012-CCAA.xlsx\n",
      "Hoja 'enero' no encontrada en ./Dataset/Dataset_origen\\2012-CCAA.xlsx. Intentando con 'Enero'.\n",
      "Procesando archivo: ./Dataset/Dataset_origen\\2011-CCAA.xlsx\n",
      "Hoja 'enero' no encontrada en ./Dataset/Dataset_origen\\2011-CCAA.xlsx. Intentando con 'Enero'.\n",
      "Procesando archivo: ./Dataset/Dataset_origen\\2010-CCAA.xlsx\n",
      "Hoja 'enero' no encontrada en ./Dataset/Dataset_origen\\2010-CCAA.xlsx. Intentando con 'Enero'.\n",
      "Procesando archivo: ./Dataset/Dataset_origen\\2009-CCAA.xlsx\n",
      "Hoja 'enero' no encontrada en ./Dataset/Dataset_origen\\2009-CCAA.xlsx. Intentando con 'Enero'.\n",
      "Procesando archivo: ./Dataset/Dataset_origen\\2008-CCAA.xlsx\n",
      "Hoja 'enero' no encontrada en ./Dataset/Dataset_origen\\2008-CCAA.xlsx. Intentando con 'Enero'.\n",
      "Procesando archivo: ./Dataset/Dataset_origen\\2007-CCAA.xlsx\n",
      "Hoja 'enero' no encontrada en ./Dataset/Dataset_origen\\2007-CCAA.xlsx. Intentando con 'Enero'.\n",
      "Procesando archivo: ./Dataset/Dataset_origen\\2006-CCAA.xlsx\n",
      "Hoja 'enero' no encontrada en ./Dataset/Dataset_origen\\2006-CCAA.xlsx. Intentando con 'Enero'.\n",
      "Procesando archivo: ./Dataset/Dataset_origen\\2005-CCAA.xlsx\n",
      "Hoja 'enero' no encontrada en ./Dataset/Dataset_origen\\2005-CCAA.xlsx. Intentando con 'Enero'.\n",
      "Procesando archivo: ./Dataset/Dataset_origen\\2004-CCAA.xlsx\n",
      "Hoja 'enero' no encontrada en ./Dataset/Dataset_origen\\2004-CCAA.xlsx. Intentando con 'Enero'.\n",
      "Procesando archivo: ./Dataset/Dataset_origen\\2003-CCAA.xlsx\n",
      "Procesando archivo: ./Dataset/Dataset_origen\\2002-CCAA.xlsx\n",
      "Procesando archivo: ./Dataset/Dataset_origen\\2001-CCAA.xlsx\n",
      "Procesando archivo: ./Dataset/Dataset_origen\\2000-CCAA.xlsx\n",
      "Procesando archivo: ./Dataset/Dataset_origen\\1999-CCAA.xlsx\n",
      "Datos combinados guardados en ./Dataset/Dataset_final\\datos_combinados_CCAA.csv\n"
     ]
    }
   ],
   "source": [
    "# Llamamos a la función pertinente para procesar los archivos y transformar en un dataset de datos a nivel de comunidad autónoma\n",
    "procesar_todos_los_archivos_ccaa(directorioEntrada, directorioSalida)"
   ]
  }
 ],
 "metadata": {
  "kernelspec": {
   "display_name": "Python 3 (ipykernel)",
   "language": "python",
   "name": "python3"
  },
  "language_info": {
   "codemirror_mode": {
    "name": "ipython",
    "version": 3
   },
   "file_extension": ".py",
   "mimetype": "text/x-python",
   "name": "python",
   "nbconvert_exporter": "python",
   "pygments_lexer": "ipython3",
   "version": "3.10.13"
  }
 },
 "nbformat": 4,
 "nbformat_minor": 5
}
